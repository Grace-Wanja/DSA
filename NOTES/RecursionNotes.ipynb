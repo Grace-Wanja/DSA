{
 "cells": [
  {
   "cell_type": "markdown",
   "metadata": {},
   "source": [
    "# GRACE WANJA B30299 "
   ]
  },
  {
   "cell_type": "markdown",
   "metadata": {},
   "source": [
    "# *A Jupyter Notebook covering recursion concepts, accompanied by Python implementations and complexity analysis where applicable.*"
   ]
  },
  {
   "cell_type": "markdown",
   "metadata": {},
   "source": [
    "## 1. Introduction to Recursion\n",
    "\n",
    "### What is recursion?\n",
    "Recursion in Python refers to a function calling itself during its execution. This programming technique is used to solve problems that can be broken down into simpler, repetitive tasks. Each recursive call reduces the problem into a smaller piece, and recursion continues until it reaches a base case, which does not involve a recursive call. Recursive functions are commonly used in tasks like traversing data structures (e.g., trees or graphs) and solving algorithmic problems (e.g., sorting or computing factorials).\n",
    "\n",
    "In Recursion, a function calls itself to solve a problem by breaking it down into smaller, similar subproblems. Python also accepts function recursion, which means a defined function can call itself.\n",
    "\n",
    "### How does recursion differ from iteration? \n",
    "- FOR RECURSION\n",
    "  - Recursion: Solves a problem by breaking it into smaller instances of the same problem. A program is called recursive when an entity calls itself.\n",
    "  - its for functions\n",
    "  - termination is through base case, where there will be no function call.\n",
    "  - Used when code size needs to be small, and time complexity is not an issue.\n",
    "  - Smaller code size.\n",
    "  - Time Complexity\tVery high(generally exponential) time complexity.\n",
    "  - Space Complexity The space complexity is higher than iterations.\n",
    "  - Here the stack is used to store local variables when the function is called.S\n",
    "  - Execution is slow since it has the overhead of maintaining and updating the stack.\t\n",
    "  - Recursion uses more memory as compared to iteration.I\n",
    "  - Possesses overhead of repeated function calls.\n",
    "  - If the recursive function does not meet to a termination condition or if the base case is not defined or is never reached then it leads to a stack overflow error and there is a chance that the a system may crash in infinite recursion.\n",
    "\n",
    "- FOR ITERATION\n",
    "- Iteration: Solves a problem by repeating a set of instructions until a condition is met. A program is called iterative when there is a loop (or repetition).\n",
    "  - its for loops\n",
    "  - termination is when the termination condition for the iterator ceases to be satisfied.\n",
    "  - Used when time complexity needs to be balanced against an expanded code size.\n",
    "  - Larger Code Size\n",
    "  - Relatively lower time complexity(generally polynomial-logarithmic).\n",
    "  - Space complexity is lower.\n",
    "  - stack is not used.\n",
    "  - Normally, it is faster than recursion as it doesn’t utilize the stack.\n",
    "  - iteration uses less memory as compared to recursion.\n",
    "  - No overhead as there are no function calls in iteration.\n",
    "  - If the control condition of the iteration statement never becomes false or the control variable does not reach the termination value, then it will cause infinite loop. On the infinite loop, it uses the CPU cycles again and again.\t\n",
    "\n",
    "### Key properties of a recursive function:\n",
    "1. Base case: This is the condition under which the recursion stops. It is crucial to prevent infinite loops and to ensure that each recursive call reduces the problem in some manner. In the factorial example, the base case is n == 1.The recursive calls must eventually reach a base case, which is solved without further recursion\n",
    "\n",
    "2. Recursive case: This is the part of the function that includes the call to itself. It must eventually lead to the base case. In the factorial example, the recursive case is return n * factorial(n-1). The function calls itself with a modified input that is to say, each recursive call should be on a smaller instance of the same problem, that is, a smaller subproblem\n",
    "\n",
    "### How recursion utilizes memory and the role of the call stack:\n",
    "- Recursion uses the call stack to keep track of function calls. \n",
    "Each recursive call creates a new instance of the function, including its local variables, parameters, and return address.\n",
    "These instances are stored in memory, specifically in the stack segment of the program's memory.\n",
    "As recursion progresses, memory usage grows because each call adds a new stack frame to the call stack.\n",
    "If recursion is too deep (e.g., no base case or too many calls), it can lead to stack overflow, where the stack memory is exhausted.\n",
    "- The call stack is a data structure that tracks function calls and their execution context. In recursion:\n",
    "The call stack is LIFO (Last In, First Out): The most recently called function is the first to complete.\n",
    "It is essential for managing function calls, recursion, and program flow.\n",
    "Call stacks help debug issues like stack overflows and infinite recursion.\n",
    "\n",
    "### Why is a base condition necessary in recursion?\n",
    "The base condition is crucial because it prevents infinite recursion by providing a stopping point. Without it, the function would continue calling itself indefinitely, eventually causing a stack overflow.\n",
    "\n",
    "### Advantages and disadvantages of using recursion:\n",
    "Advantages:\n",
    "- Often leads to cleaner, more readable code for certain problems\n",
    "- Recursion can reduce the length of the code since the repetitive tasks are handled through repeated function calls.\n",
    "- Naturally suits problems with recursive structures (e.g., tree traversals)\n",
    "- Can be more intuitive for complex algorithms\n",
    "\n",
    "Disadvantages:\n",
    "- Can be less efficient in terms of memory usage, each recursive call adds a new layer to the stack, which can result in significant memory use, especially for deep recursion.\n",
    "- May lead to stack overflow ie, excessive recursion can lead to a stack overflow error if the recursion depth exceeds the stack limit.\n",
    "- Sometimes harder to debug and understand for beginners\n",
    "- Recursive functions may lead to slower responses due to overheads like function calls and returns.\n",
    "\n",
    "### When should recursion be used instead of iteration?\n",
    "Recursion is often preferred when:\n",
    "- The problem has a natural recursive structure (e.g., tree traversals, fractals)\n",
    "- The code becomes significantly clearer or more concise with recursion\n",
    "- The depth of recursion is known to be limited\n",
    "- Memory usage is not a critical concern"
   ]
  },
  {
   "cell_type": "markdown",
   "metadata": {},
   "source": [
    "## 2. Recursive Problems with Explanations, Code, and Complexity Analysis\n",
    "\n",
    "### 2.1 Factorial Calculation\n",
    "\n",
    "#### Mathematical definition of factorial:\n",
    "The factorial of a non-negative integer n, denoted as n!, is the product of all positive integers less than or equal to n.\n",
    "n! = n × (n-1) × (n-2) × ... × 3 × 2 × 1\n",
    "By definition, 0! = 1 and 1! = 1. hence;\n",
    "Factorial recursion in Python involves writing a function that computes the factorial of a number by recursively multiplying the number by the factorial of the number minus one. \n",
    "The factorial function is defined as the product of all positive integers up to a specified number, n, and is denoted as n!. The base case in factorial recursion is when n equals 0 or 1, where the factorial is defined as 1.\n",
    "\n",
    "#### Time complexity analysis:\n",
    "Both recursive and iterative implementations have a time complexity of O(n), where n is the input number. This is because we perform n multiplications in both cases.\n",
    "\n",
    "#### Space complexity analysis:\n",
    "- Recursive: O(n) due to the call stack\n",
    "- Iterative: O(1) as it uses only a constant amount of extra space"
   ]
  },
  {
   "cell_type": "code",
   "execution_count": null,
   "metadata": {},
   "outputs": [
    {
     "name": "stdout",
     "output_type": "stream",
     "text": [
      "120\n",
      "120\n"
     ]
    }
   ],
   "source": [
    "#Recursive implementation of factorial:\n",
    "def factorial_recursive(n):\n",
    "    if n == 0 or n == 1:\n",
    "        return 1\n",
    "    else:\n",
    "        return n * factorial_recursive(n - 1)\n",
    "\n",
    "# Test the function\n",
    "print(factorial_recursive(5))  # Should output 120\n",
    "\n",
    "#OrSimply\n",
    "def factorial(n):\n",
    "    if n == 0:\n",
    "        return 1\n",
    "    return n * factorial(n-1)\n",
    "print(factorial(5))"
   ]
  },
  {
   "cell_type": "code",
   "execution_count": 2,
   "metadata": {},
   "outputs": [
    {
     "name": "stdout",
     "output_type": "stream",
     "text": [
      "120\n"
     ]
    }
   ],
   "source": [
    "#Iterative implementation of factorial:\n",
    "def factorial_iterative(n):\n",
    "    result = 1\n",
    "    for i in range(1, n + 1):\n",
    "        result *= i\n",
    "    return result\n",
    "\n",
    "# Test the function\n",
    "print(factorial_iterative(5))  # Should output 120"
   ]
  },
  {
   "cell_type": "markdown",
   "metadata": {},
   "source": [
    "### 2.2 Fibonacci Series\n",
    "\n",
    "#### What is the Fibonacci sequence?\n",
    "The Fibonacci Sequence is a series of numbers starting with 0 and 1, where each succeeding number is the sum of the two preceding numbers. The sequence goes on infinitely.\n",
    "So, the sequence begins as:\n",
    "0, 1, 1, 2, 3, 5, 8, 13, 21, 34, 55, 89, …\n",
    "\n",
    "#### Time complexity analysis:\n",
    "- Naive recursive: O(2^n) - exponential time complexity\n",
    "- Memoized recursive: O(n) - linear time complexity\n",
    "- Iterative: O(n) - linear time complexity\n",
    "\n",
    "#### Space complexity analysis:\n",
    "- Naive recursive: O(n) due to the call stack\n",
    "- Memoized recursive: O(n) for the memoization dictionary\n",
    "- Iterative: O(1) as it uses only a constant amount of extra space"
   ]
  },
  {
   "cell_type": "code",
   "execution_count": null,
   "metadata": {},
   "outputs": [
    {
     "name": "stdout",
     "output_type": "stream",
     "text": [
      "13\n"
     ]
    }
   ],
   "source": [
    "#How Fibonacci numbers can be generated using recursion\n",
    "#Recursive implementation of Fibonacci:\n",
    "def fibonacci_recursive(n):\n",
    "    if n <= 1:\n",
    "        return n\n",
    "    else:\n",
    "        return fibonacci_recursive(n - 1) + fibonacci_recursive(n - 2)\n",
    "\n",
    "# Test the function\n",
    "print(fibonacci_recursive(7))  # Should output 13"
   ]
  },
  {
   "cell_type": "code",
   "execution_count": null,
   "metadata": {},
   "outputs": [
    {
     "name": "stdout",
     "output_type": "stream",
     "text": [
      "13\n"
     ]
    }
   ],
   "source": [
    "##Inefficiencies of the naive recursive approach:\n",
    "#The naive recursive approach recalculates the same Fibonacci numbers multiple times,\n",
    "#leading to exponential time complexity.\n",
    "#This makes it highly inefficient for larger values of n.\n",
    "\n",
    "# Recursion Tree for Fibonacci Sequence (n=4)\n",
    "#The recursive call tree for the Fibonacci sequence, \n",
    "#showing why naive recursion is inefficient.\n",
    "# \n",
    "#                     fib(4)\n",
    "#                    /      \\\n",
    "#               fib(3)      fib(2)\n",
    "#              /     \\      /    \\\n",
    "#         fib(2)   fib(1) fib(1) fib(0)\n",
    "#         /    \\\n",
    "#     fib(1) fib(0)\n",
    "\n",
    "#notice how fib(2) is calculated multiple times.\n",
    "\n",
    "#Efficient implementation using memoization:\n",
    "def fibonacci_memoized(n, memo={}):\n",
    "    if n in memo:\n",
    "        return memo[n]\n",
    "    if n <= 1:\n",
    "        return n\n",
    "    memo[n] = fibonacci_memoized(n - 1, memo) + fibonacci_memoized(n - 2, memo)\n",
    "    return memo[n]\n",
    "\n",
    "# Test the function\n",
    "print(fibonacci_memoized(7))  # Should output 13"
   ]
  },
  {
   "cell_type": "code",
   "execution_count": 5,
   "metadata": {},
   "outputs": [
    {
     "name": "stdout",
     "output_type": "stream",
     "text": [
      "13\n"
     ]
    }
   ],
   "source": [
    "# Iterative implementation of Fibonacci:\n",
    "def fibonacci_iterative(n):\n",
    "    if n <= 1:\n",
    "        return n\n",
    "    a, b = 0, 1\n",
    "    for _ in range(2, n + 1):\n",
    "        a, b = b, a + b\n",
    "    return b\n",
    "\n",
    "# Test the function\n",
    "print(fibonacci_iterative(7))  # Should output 13"
   ]
  },
  {
   "cell_type": "markdown",
   "metadata": {},
   "source": [
    "### 2.3 Towers of Hanoi\n",
    "\n",
    "#### What is the Towers of Hanoi problem?\n",
    "The Towers of Hanoi is a classic problem in computer science and mathematics. It consists of three rods and a number of disks of different sizes which can slide onto any rod. The puzzle starts with the disks stacked on one rod in order of decreasing size, the smallest at the top.\n",
    "\n",
    "#### Rules for moving disks:\n",
    "1. Only one disk can be moved at a time.\n",
    "2. Each move consists of taking the upper disk from one of the stacks and placing it on top of another stack or on an empty rod.\n",
    "3. No larger disk may be placed on top of a smaller disk."
   ]
  },
  {
   "cell_type": "code",
   "execution_count": 6,
   "metadata": {},
   "outputs": [
    {
     "name": "stdout",
     "output_type": "stream",
     "text": [
      "Move disk 1 from A to C\n",
      "Move disk 2 from A to B\n",
      "Move disk 1 from C to B\n",
      "Move disk 3 from A to C\n",
      "Move disk 1 from B to A\n",
      "Move disk 2 from B to C\n",
      "Move disk 1 from A to C\n"
     ]
    }
   ],
   "source": [
    "#Recursive solution for Towers of Hanoi:\n",
    "def hanoi(n, source, auxiliary, target):\n",
    "    if n == 1:\n",
    "        print(f\"Move disk 1 from {source} to {target}\")\n",
    "        return\n",
    "    hanoi(n - 1, source, target, auxiliary)\n",
    "    print(f\"Move disk {n} from {source} to {target}\")\n",
    "    hanoi(n - 1, auxiliary, source, target)\n",
    "\n",
    "# Test the function\n",
    "hanoi(3, 'A', 'B', 'C')"
   ]
  },
  {
   "cell_type": "markdown",
   "metadata": {},
   "source": [
    "#### Base condition in the recursive approach:\n",
    "The base condition is when n = 1, which means we're moving the smallest disk directly from the source to the target.\n",
    "\n",
    "#### Relationship between number of moves and number of disks:\n",
    "For n disks, the minimum number of moves required is 2^n - 1.\n",
    "\n",
    "#### Time complexity of the recursive solution:\n",
    "The time complexity is O(2^n), as we make two recursive calls for each disk.\n",
    "\n",
    "### 2.4 Traversing a Nested List\n",
    "\n",
    "#### What is a nested list?\n",
    "A nested list is a list that contains other lists as its elements. It can have multiple levels of nesting."
   ]
  },
  {
   "cell_type": "code",
   "execution_count": 7,
   "metadata": {},
   "outputs": [
    {
     "name": "stdout",
     "output_type": "stream",
     "text": [
      "8\n"
     ]
    }
   ],
   "source": [
    "#Recursive function to traverse and count elements in a nested list:\n",
    "def count_elements_recursive(nested_list):\n",
    "    count = 0\n",
    "    for item in nested_list:\n",
    "        if isinstance(item, list):\n",
    "            count += count_elements_recursive(item)\n",
    "        else:\n",
    "            count += 1\n",
    "    return count\n",
    "\n",
    "# Test the function\n",
    "nested_list = [1, [2, 3, [4, 5]], 6, [7, 8]]\n",
    "print(count_elements_recursive(nested_list))  # Should output 8"
   ]
  },
  {
   "cell_type": "code",
   "execution_count": 8,
   "metadata": {},
   "outputs": [
    {
     "name": "stdout",
     "output_type": "stream",
     "text": [
      "8\n"
     ]
    }
   ],
   "source": [
    "#Iterative approach to traverse a nested list:\n",
    "def count_elements_iterative(nested_list):\n",
    "    stack = [nested_list]\n",
    "    count = 0\n",
    "    while stack:\n",
    "        current = stack.pop()\n",
    "        for item in current:\n",
    "            if isinstance(item, list):\n",
    "                stack.append(item)\n",
    "            else:\n",
    "                count += 1\n",
    "    return count\n",
    "\n",
    "# Test the function\n",
    "nested_list = [1, [2, 3, [4, 5]], 6, [7, 8]]\n",
    "print(count_elements_iterative(nested_list))  # Should output 8"
   ]
  },
  {
   "cell_type": "markdown",
   "metadata": {},
   "source": [
    "#### Advantages and disadvantages of both approaches:\n",
    "Recursive Merits:\n",
    "+ Simple and intuitive implementation\n",
    "+ Naturally handles nested structures\n",
    "\n",
    "Demerits\n",
    "- can lead to stack overflow for deeply nested lists\n",
    "\n",
    "Iterative Merits:\n",
    "+ Avoids stack overflow issues\n",
    "+ Generally more efficient in terms of memory usage\n",
    "\n",
    "Demerits\n",
    "- Can be more complex to implement and understand\n",
    "\n",
    "\n",
    "### 2.5 Checking for Palindromes\n",
    "\n",
    "#### What is a palindrome?\n",
    "A palindrome is a word, phrase, number, or other sequence of characters that reads the same forward and backward, ignoring spaces, punctuation, and capitalization.\n",
    "\n",
    "#### Time complexity analysis:\n",
    "Both recursive and iterative approaches have a time complexity of O(n), where n is the length of the string. This is because we need to process each character once."
   ]
  },
  {
   "cell_type": "code",
   "execution_count": 9,
   "metadata": {},
   "outputs": [
    {
     "name": "stdout",
     "output_type": "stream",
     "text": [
      "True\n",
      "False\n"
     ]
    }
   ],
   "source": [
    "#Recursive function to check for palindromes:\n",
    "def is_palindrome_recursive(s):\n",
    "    # Remove non-alphanumeric characters and convert to lowercase\n",
    "    s = ''.join(c.lower() for c in s if c.isalnum())\n",
    "    \n",
    "    if len(s) <= 1:\n",
    "        return True\n",
    "    elif s[0] != s[-1]:\n",
    "        return False\n",
    "    else:\n",
    "        return is_palindrome_recursive(s[1:-1])\n",
    "\n",
    "# Test the function\n",
    "print(is_palindrome_recursive(\"A man, a plan, a canal: Panama\"))  # Should output True\n",
    "print(is_palindrome_recursive(\"race a car\"))  # Should output False"
   ]
  },
  {
   "cell_type": "code",
   "execution_count": 10,
   "metadata": {},
   "outputs": [
    {
     "name": "stdout",
     "output_type": "stream",
     "text": [
      "True\n",
      "False\n"
     ]
    }
   ],
   "source": [
    "#Base condition in the recursive palindrome check:\n",
    "#The base condition is when the string has 0 or 1 character, which is always a palindrome.\n",
    "\n",
    "#Iterative approach to check for palindromes:\n",
    "def is_palindrome_iterative(s):\n",
    "    # Remove non-alphanumeric characters and convert to lowercase\n",
    "    s = ''.join(c.lower() for c in s if c.isalnum())\n",
    "    \n",
    "    left, right = 0, len(s) - 1\n",
    "    while left < right:\n",
    "        if s[left] != s[right]:\n",
    "            return False\n",
    "        left += 1\n",
    "        right -= 1\n",
    "    return True\n",
    "\n",
    "# Test the function\n",
    "print(is_palindrome_iterative(\"A man, a plan, a canal: Panama\"))  # Should output True\n",
    "print(is_palindrome_iterative(\"race a car\"))  # Should output False"
   ]
  },
  {
   "cell_type": "markdown",
   "metadata": {},
   "source": [
    "## 3. Memory Usage in Recursion\n",
    "\n",
    "### How is recursion handled in memory?\n",
    "Recursion uses the call stack to keep track of function calls. Each recursive call adds a new frame to the stack, containing local variables and the return address.\n",
    "\n",
    "### What happens when too many recursive calls are made?\n",
    "When too many recursive calls are made, it can lead to a stack overflow error. This occurs when the call stack exceeds its maximum size. When you execute a recursive function in Python on a large input ( > 10^4), you might encounter a “maximum recursion depth exceeded error”. This is a common error when executing algorithms such as DFS, factorial, etc. on large inputs. This is also common in competitive programming on multiple platforms when you are trying to run a recursive algorithm on various test cases. \n",
    "\n",
    "### Recursion limit in Python and how to modify it:\n",
    "Python has a default recursion limit to prevent infinite recursion. You can check and modify this limit using the `sys` module:\n",
    "The “sys” module in Python provides a function called setrecursionlimit() to modify the recursion limit in Python. It takes one parameter, the value of the new recursion limit. By default, this value is usually 10^3. If you are dealing with large inputs, you can set it to, 10^6 so that large inputs can be handled without any errors.\n",
    "\n",
    "### Tail recursion and its optimization in Python:\n",
    "Tail recursion is a special case of recursion where the recursive call is the last operation in the function. While some languages optimize tail recursion, Python does not perform this optimization. This means that even tail-recursive functions in Python can lead to stack overflow for deep recursions.\n",
    "\n",
    "### Converting recursion to iteration to avoid excessive memory usage:\n",
    "To avoid excessive memory usage, recursive algorithms can often be converted to iterative ones using a stack or other data structures to simulate the recursive calls."
   ]
  },
  {
   "cell_type": "code",
   "execution_count": 11,
   "metadata": {},
   "outputs": [
    {
     "name": "stdout",
     "output_type": "stream",
     "text": [
      "Current recursion limit: 3000\n"
     ]
    }
   ],
   "source": [
    "import sys\n",
    "\n",
    "print(f\"Current recursion limit: {sys.getrecursionlimit()}\")\n",
    "\n",
    "# To change the limit (use with caution):\n",
    "# sys.setrecursionlimit(3000)"
   ]
  },
  {
   "cell_type": "markdown",
   "metadata": {},
   "source": [
    "## 4. Advantages and Disadvantages of Recursion\n",
    "\n",
    "### Situations where recursion is more readable than loops:\n",
    "- Tree traversals and other hierarchical data structure operations\n",
    "- Divide-and-conquer algorithms (e.g., quicksort, merge sort)\n",
    "- Problems with a naturally recursive structure (e.g., factorial, Fibonacci)\n",
    "- Backtracking algorithms\n",
    "\n",
    "### Risks of using recursion in terms of performance and memory:\n",
    "- Stack overflow for deep recursions\n",
    "- Increased memory usage due to the call stack\n",
    "- Potential performance overhead from function calls\n",
    "\n",
    "### Factors to consider when deciding between recursion and iteration:\n",
    "- Problem structure: Is it naturally recursive?\n",
    "- Readability: Which approach leads to clearer code?\n",
    "- Performance requirements: Is the overhead of function calls acceptable?\n",
    "- Memory constraints: Can the system handle the potential stack depth?\n",
    "- Debugging ease: Which approach is easier to debug and maintain?"
   ]
  },
  {
   "cell_type": "markdown",
   "metadata": {},
   "source": [
    "## 5. Conclusion\n",
    "\n",
    "### Key takeaways from learning recursion:\n",
    "1. Recursion is a powerful technique for solving problems with a recursive structure.\n",
    "2. Always ensure there's a base case to prevent infinite recursion.\n",
    "3. Consider the trade-offs between recursion and iteration in terms of readability, performance, and memory usage.\n",
    "4. Be aware of the call stack and potential stack overflow issues.\n",
    "5. Memoization can significantly improve the performance of recursive algorithms.\n",
    "\n",
    "### Real-world applications where recursion is commonly used:\n",
    "- File system operations (e.g., directory traversal)\n",
    "- Parsing and processing nested data structures (e.g., JSON, XML)\n",
    "- Computer graphics (e.g., fractals, ray tracing)\n",
    "- Natural language processing (e.g., parsing grammars)\n",
    "- Game development (e.g., game tree traversal in AI)\n",
    "- Mathematical computations (e.g., calculating combinations and permutations)\n",
    "- Web crawlers and site maps\n",
    "- Solving puzzles and games (e.g., Sudoku solvers, chess engines)\n",
    "\n",
    "Recursion is a fundamental concept in computer science and programming. While it's not always the most efficient solution, understanding recursion is crucial for developing problem-solving skills and tackling complex algorithmic challenges."
   ]
  }
 ],
 "metadata": {
  "kernelspec": {
   "display_name": "Python 3",
   "language": "python",
   "name": "python3"
  },
  "language_info": {
   "codemirror_mode": {
    "name": "ipython",
    "version": 3
   },
   "file_extension": ".py",
   "mimetype": "text/x-python",
   "name": "python",
   "nbconvert_exporter": "python",
   "pygments_lexer": "ipython3",
   "version": "3.12.6"
  }
 },
 "nbformat": 4,
 "nbformat_minor": 2
}
