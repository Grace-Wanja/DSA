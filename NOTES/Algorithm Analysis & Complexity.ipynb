{
 "cells": [
  {
   "cell_type": "markdown",
   "metadata": {},
   "source": [
    "## GRACE WANJA B30299"
   ]
  },
  {
   "cell_type": "markdown",
   "metadata": {},
   "source": [
    "## *Algorithm Analysis and Complexity*"
   ]
  },
  {
   "cell_type": "markdown",
   "metadata": {},
   "source": [
    " ## 1.Definition of Algorithm Analysis\n",
    "\n",
    "Algorithm analysis is the process of determining the amount of time and space an algorithm requires to complete. It involves analyzing the algorithm's performance in terms of its input size, usually denoted as 'n'. The goal of algorithm analysis is to predict the behavior of an algorithm and compare it with other algorithms and to determine how efficiently an algorithm solves a problem as the input size grows."
   ]
  },
  {
   "cell_type": "markdown",
   "metadata": {},
   "source": [
    "## 2.Time Complexity and Space Complexity\n",
    "\n",
    "### Time Complexity\n",
    "Measures how the execution time of an algorithm grows ie (The amount of time an algorithm takes to complete) with respect to the input size. \n",
    "- It is often expressed using Big-O notation.\n",
    "\n",
    "### Space Complexity\n",
    "Space complexity refers the amount of memory an algorithm uses, usually measured in terms of the amount of space required to store the input and output data.\n",
    "Both time and space complexity are critical factors when choosing the most suitable algorithm for a particular problem.\n",
    "\n",
    "For example:\n",
    "- If an algorithm has **O(n)** time complexity, its execution time grows linearly with the input size.\n",
    "- If an algorithm has **O(1)** space complexity, it uses constant space regardless of the input size.\n"
   ]
  },
  {
   "cell_type": "markdown",
   "metadata": {},
   "source": [
    "## 3.Correctness, Termination, and Effectiveness of an Algorithm\n",
    "\n",
    "### Correctness\n",
    "- The algorithm must produce the correct output for all valid inputs.\n",
    "- This is often verified using formal methods, such as inductive proofs.\n",
    "\n",
    "### Termination \n",
    "- is the end of an execution\n",
    "- The algorithm must always terminate after a finite number of steps.\n",
    "- An algorithm that does not terminate is called an **infinite loop** or **non-terminating**.\n",
    "\n",
    "### Effectiveness\n",
    "- The steps of the algorithm must be basic enough to be carried out, in principle, by a computer ie, the algorithm should be efficient in terms of time and space.\n"
   ]
  },
  {
   "cell_type": "markdown",
   "metadata": {},
   "source": [
    "## 4.Algorithm Complexity and Measurement\n",
    "\n",
    "Algorithm Complexity: A measure of the resources (time or space) required by an algorithm.\n",
    "\n",
    "Measurement: Typically expressed using Big-O notation, which describes the upper bound of an algorithm's complexity.\n",
    "### How to Measure Algorithm Complexity\n",
    "To measure the complexity of an algorithm, we often:\n",
    "1. Count the number of basic operations (such as comparisons or assignments).\n",
    "2. Express the complexity in terms of the input size, typically denoted as **n**.\n",
    "3. Use asymptotic notation (like Big-O) to describe the growth rate of the algorithm’s complexity.\n",
    "\n",
    "This helps determine the scalability and efficiency of an algorithm as the problem size grows.\n"
   ]
  },
  {
   "cell_type": "markdown",
   "metadata": {},
   "source": [
    "## 5.Categories of Algorithm Complexity\n",
    "\n",
    "### a. Constant Time - O(1)\n",
    "- The algorithm takes the same amount of time regardless of the input size.\n",
    "Example: Accessing an element in an array by its index.\n",
    "\n",
    "### b. Logarithmic Time - O(log n)\n",
    "- The algorithm's running time grows logarithmically with the input size. Common in divide-and-conquer algorithms.\n",
    "\n",
    "### c. Linear Time - O(n)\n",
    "- The algorithm's running time grows linearly with the input size.\n",
    "- An algorithm has a linear time complexity if it takes time proportional to the input size.\n",
    "Example: Finding an element in an array.\n",
    "\n",
    "### d. Quadratic Time - O(n²)\n",
    "- The algorithm's running time grows quadratically with the input size. it takes time proportional to the square of the input size. Example: Bubble sort algorithm.\n",
    "\n",
    "### e. Exponential Time - O(2ⁿ)\n",
    "- The algorithm's running time grows exponentially with the input size.\n",
    "- An algorithm has an exponential time complexity if it takes time proportional to 2 raised to the power of the input size ie, the algorithm's runtime doubles with each additional input.\n",
    "Example: Recursive Fibonacci sequence.\n",
    "\n",
    "### f. Factorial Time - O(n!)\n",
    "- An algorithm has a factorial time complexity if it takes time proportional to the factorial of the input size. Common in problems involving permutations and combinations.\n"
   ]
  },
  {
   "cell_type": "markdown",
   "metadata": {},
   "source": [
    "## 6.Looping Structures and Complexity Analysis\n",
    "\n",
    "### a.Simple Loops\n",
    "\n",
    "- **Linear Time (O(n))**: A single loop iterating over n elements.\n",
    "\n",
    "- **Logarithmic Time (O(log n))**: A loop where the problem size is halved each iteration (e.g., binary search).\n"
   ]
  },
  {
   "cell_type": "markdown",
   "metadata": {},
   "source": [
    "### b.Nested Loops\n",
    " \n",
    "- **Linear Logarithmic (O(n log n))**: A loop with a logarithmic operation inside (e.g., merge sort).\n",
    "\n",
    "- **Quadratic (O(n²))**: Two nested loops iterating over n elements. ie, when we have nested loops iterating over the input size, the time complexity becomes quadratic.\n",
    "\n",
    "- **Dependent Quadratic (O(n * m))**: Two nested loops iterating over n and m elements respectively."
   ]
  },
  {
   "cell_type": "code",
   "execution_count": 6,
   "metadata": {},
   "outputs": [
    {
     "name": "stdout",
     "output_type": "stream",
     "text": [
      "Constant Time (O(1)): 1\n",
      "Logarithmic Time (O(log n)): 2\n",
      "Linear Time (O(n)):\n",
      "1\n",
      "2\n",
      "3\n",
      "4\n",
      "5\n",
      "Quadratic Time (O(n²)):\n",
      "1 1\n",
      "1 2\n",
      "1 3\n",
      "1 4\n",
      "1 5\n",
      "2 1\n",
      "2 2\n",
      "2 3\n",
      "2 4\n",
      "2 5\n",
      "3 1\n",
      "3 2\n",
      "3 3\n",
      "3 4\n",
      "3 5\n",
      "4 1\n",
      "4 2\n",
      "4 3\n",
      "4 4\n",
      "4 5\n",
      "5 1\n",
      "5 2\n",
      "5 3\n",
      "5 4\n",
      "5 5\n",
      "Exponential Time (O(2ⁿ)): 5\n",
      "Factorial Time (O(n!)): [(1, 2, 3, 4, 5), (1, 2, 3, 5, 4), (1, 2, 4, 3, 5), (1, 2, 4, 5, 3), (1, 2, 5, 3, 4), (1, 2, 5, 4, 3), (1, 3, 2, 4, 5), (1, 3, 2, 5, 4), (1, 3, 4, 2, 5), (1, 3, 4, 5, 2), (1, 3, 5, 2, 4), (1, 3, 5, 4, 2), (1, 4, 2, 3, 5), (1, 4, 2, 5, 3), (1, 4, 3, 2, 5), (1, 4, 3, 5, 2), (1, 4, 5, 2, 3), (1, 4, 5, 3, 2), (1, 5, 2, 3, 4), (1, 5, 2, 4, 3), (1, 5, 3, 2, 4), (1, 5, 3, 4, 2), (1, 5, 4, 2, 3), (1, 5, 4, 3, 2), (2, 1, 3, 4, 5), (2, 1, 3, 5, 4), (2, 1, 4, 3, 5), (2, 1, 4, 5, 3), (2, 1, 5, 3, 4), (2, 1, 5, 4, 3), (2, 3, 1, 4, 5), (2, 3, 1, 5, 4), (2, 3, 4, 1, 5), (2, 3, 4, 5, 1), (2, 3, 5, 1, 4), (2, 3, 5, 4, 1), (2, 4, 1, 3, 5), (2, 4, 1, 5, 3), (2, 4, 3, 1, 5), (2, 4, 3, 5, 1), (2, 4, 5, 1, 3), (2, 4, 5, 3, 1), (2, 5, 1, 3, 4), (2, 5, 1, 4, 3), (2, 5, 3, 1, 4), (2, 5, 3, 4, 1), (2, 5, 4, 1, 3), (2, 5, 4, 3, 1), (3, 1, 2, 4, 5), (3, 1, 2, 5, 4), (3, 1, 4, 2, 5), (3, 1, 4, 5, 2), (3, 1, 5, 2, 4), (3, 1, 5, 4, 2), (3, 2, 1, 4, 5), (3, 2, 1, 5, 4), (3, 2, 4, 1, 5), (3, 2, 4, 5, 1), (3, 2, 5, 1, 4), (3, 2, 5, 4, 1), (3, 4, 1, 2, 5), (3, 4, 1, 5, 2), (3, 4, 2, 1, 5), (3, 4, 2, 5, 1), (3, 4, 5, 1, 2), (3, 4, 5, 2, 1), (3, 5, 1, 2, 4), (3, 5, 1, 4, 2), (3, 5, 2, 1, 4), (3, 5, 2, 4, 1), (3, 5, 4, 1, 2), (3, 5, 4, 2, 1), (4, 1, 2, 3, 5), (4, 1, 2, 5, 3), (4, 1, 3, 2, 5), (4, 1, 3, 5, 2), (4, 1, 5, 2, 3), (4, 1, 5, 3, 2), (4, 2, 1, 3, 5), (4, 2, 1, 5, 3), (4, 2, 3, 1, 5), (4, 2, 3, 5, 1), (4, 2, 5, 1, 3), (4, 2, 5, 3, 1), (4, 3, 1, 2, 5), (4, 3, 1, 5, 2), (4, 3, 2, 1, 5), (4, 3, 2, 5, 1), (4, 3, 5, 1, 2), (4, 3, 5, 2, 1), (4, 5, 1, 2, 3), (4, 5, 1, 3, 2), (4, 5, 2, 1, 3), (4, 5, 2, 3, 1), (4, 5, 3, 1, 2), (4, 5, 3, 2, 1), (5, 1, 2, 3, 4), (5, 1, 2, 4, 3), (5, 1, 3, 2, 4), (5, 1, 3, 4, 2), (5, 1, 4, 2, 3), (5, 1, 4, 3, 2), (5, 2, 1, 3, 4), (5, 2, 1, 4, 3), (5, 2, 3, 1, 4), (5, 2, 3, 4, 1), (5, 2, 4, 1, 3), (5, 2, 4, 3, 1), (5, 3, 1, 2, 4), (5, 3, 1, 4, 2), (5, 3, 2, 1, 4), (5, 3, 2, 4, 1), (5, 3, 4, 1, 2), (5, 3, 4, 2, 1), (5, 4, 1, 2, 3), (5, 4, 1, 3, 2), (5, 4, 2, 1, 3), (5, 4, 2, 3, 1), (5, 4, 3, 1, 2), (5, 4, 3, 2, 1)]\n"
     ]
    }
   ],
   "source": [
    "# a. Constant Time - O(1)\n",
    "def constant_time_example(arr):\n",
    "    return arr[0]  #Accessing the first element of an array is O(1)\n",
    "\n",
    "# b. Logarithmic Time - O(log n)\n",
    "def logarithmic_time_example(arr, target):\n",
    "    low, high = 0, len(arr) - 1\n",
    "    while low <= high:\n",
    "        mid = (low + high) // 2\n",
    "        if arr[mid] == target:\n",
    "            return mid  # # Binary search is O(log n) operation\n",
    "        elif arr[mid] < target:\n",
    "            low = mid + 1\n",
    "        else:\n",
    "            high = mid - 1\n",
    "    return -1\n",
    "\n",
    "# c. Linear Time - O(n)\n",
    "def linear_time_example(arr):\n",
    "    for num in arr:\n",
    "        print(num)  #Iterating through an array is O(n) operation\n",
    "\n",
    "# d. Quadratic Time - O(n²)\n",
    "def quadratic_time_example(arr):\n",
    "    for i in arr:\n",
    "        for j in arr:\n",
    "            print(i, j)  #Nested loops are O(n²) operation\n",
    "\n",
    "# e. Exponential Time - O(2ⁿ)\n",
    "def exponential_time_example(n):\n",
    "    if n <= 1:\n",
    "        return n\n",
    "    return exponential_time_example(n - 1) + exponential_time_example(n - 2)  # Recursive Fibonacci is O(2ⁿ)\n",
    "\n",
    "# f. Factorial Time - O(n!)\n",
    "def factorial_time_example(arr):\n",
    "    from itertools import permutations\n",
    "    return list(permutations(arr))  #Generating all permutations is O(n!) \n",
    "\n",
    "# Example inputs\n",
    "arr = [1, 2, 3, 4, 5]\n",
    "target = 3\n",
    "n = 5\n",
    "\n",
    "# Calling functions directly\n",
    "print(\"Constant Time (O(1)):\", constant_time_example(arr))\n",
    "print(\"Logarithmic Time (O(log n)):\", logarithmic_time_example(sorted(arr), target))\n",
    "print(\"Linear Time (O(n)):\")\n",
    "linear_time_example(arr)\n",
    "print(\"Quadratic Time (O(n²)):\")\n",
    "quadratic_time_example(arr)\n",
    "print(\"Exponential Time (O(2ⁿ)):\", exponential_time_example(n))\n",
    "print(\"Factorial Time (O(n!)):\", factorial_time_example(arr))\n"
   ]
  },
  {
   "cell_type": "markdown",
   "metadata": {},
   "source": [
    "## 7. Big-O Notation\n",
    "\n",
    "- **Big-O Notation Definition and Importance**: \n",
    "- - Describes the upper bound of an algorithm's complexity.\n",
    "- - It provides a high-level understanding of an algorithm's efficiency.\n",
    "\n",
    "- **How to Determine Big-O Notation**\n",
    "1. **Identify the basic operations**: Look at loops and recursive calls.\n",
    "2. **Simplify the expression**: Identify the dominant term ie focus on the term that grows the fastest as input size n increases.\n",
    "3. Drop constants and lower-order terms.\n",
    "\n",
    "For example:\n",
    "- O(2n) simplifies to O(n) because constant factors are ignored.\n",
    "- O(n + log n) simplifies to O(n).\n",
    "\n",
    "- **Examples and Explanation**\n",
    "- - Example 1: O(n² + n) simplifies to O(n²).\n",
    "- - Example 2: O(2n + log n) simplifies to O(n)."
   ]
  },
  {
   "cell_type": "markdown",
   "metadata": {},
   "source": [
    "## 8.Algorithm Runtime Efficiency\n",
    "\n",
    "### Best-case, Worst-case, and Average-case Analysis\n",
    "- **Best-case**: The minimum time taken by an algorithm (when the input is best-suited for the algorithm).\n",
    "- **Worst-case**: The maximum time taken by an algorithm (often used in Big-O notation).\n",
    "- **Average-case**: The average time required for all possible inputs of size n.\n",
    "\n",
    "### Comparison of Different Complexity Functions\n",
    "- **O(1) vs O(n)**: An O(1) algorithm is far more efficient than an O(n) algorithm, especially for large inputs.\n",
    "- **O(n) vs O(n²)**: Linear algorithms are preferred over quadratic algorithms for larger input sizes.\n"
   ]
  },
  {
   "cell_type": "markdown",
   "metadata": {},
   "source": [
    "## 9.Conclusion\n",
    "\n",
    "- Algorithm analysis is crucial for understanding the efficiency of algorithms.\n",
    "- Big-O notation provides a standardized way to compare algorithms.\n",
    "- Always consider both time and space complexity when designing algorithms."
   ]
  }
 ],
 "metadata": {
  "kernelspec": {
   "display_name": "Python 3",
   "language": "python",
   "name": "python3"
  },
  "language_info": {
   "codemirror_mode": {
    "name": "ipython",
    "version": 3
   },
   "file_extension": ".py",
   "mimetype": "text/x-python",
   "name": "python",
   "nbconvert_exporter": "python",
   "pygments_lexer": "ipython3",
   "version": "3.12.6"
  }
 },
 "nbformat": 4,
 "nbformat_minor": 2
}
