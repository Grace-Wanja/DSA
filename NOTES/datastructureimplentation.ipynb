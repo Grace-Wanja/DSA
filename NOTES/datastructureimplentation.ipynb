{
 "cells": [
  {
   "cell_type": "code",
   "execution_count": 7,
   "metadata": {},
   "outputs": [
    {
     "name": "stdout",
     "output_type": "stream",
     "text": [
      "9\n",
      "[1, 2, 3, 4, 5, 6, 7, 8, 9]\n",
      "[1, 2, 3, 4, 5, 6, 7, 8, 9, 10]\n",
      "[1, 2, 2.5, 3, 4, 5, 6, 7, 8, 9, 10]\n",
      "[1, 2, 2.5, 3, 4, 5, 6, 7, 8, 9]\n",
      "array without 5 [1, 2, 2.5, 3, 4, 6, 7, 8, 9]\n",
      "800 is not in the array\n",
      "elements currently in array: \n",
      "1\n",
      "2\n",
      "2.5\n",
      "3\n",
      "4\n",
      "6\n",
      "7\n",
      "8\n",
      "9\n"
     ]
    }
   ],
   "source": [
    "array = [1,2,3,4,5,6,7,8,9]\n",
    "print(array[8])\n",
    "print(array)\n",
    "\n",
    "#inserting data into an array\n",
    "array.append(10)\n",
    "print(array)\n",
    "array.insert(2,2.5) #inserting 2.5 at index 2\n",
    "print(array)\n",
    "\n",
    "#removing/deleting data from an array\n",
    "array.remove(10) #removes the first occurrence of 10 its self\n",
    "print(array)\n",
    "del array[5] #deletes the element at index 5\n",
    "print('array without 5', array)\n",
    "\n",
    "#searching for an element in an array\n",
    "if 800 in array: #uses key word in to search for 800\n",
    "    print('800 is in the array')\n",
    "else:\n",
    "    print('800 is not in the array')\n",
    "\n",
    "#traversing the array\n",
    "print('elements currently in array: ')\n",
    "for num in array:\n",
    "    print(num)"
   ]
  },
  {
   "cell_type": "code",
   "execution_count": 11,
   "metadata": {},
   "outputs": [
    {
     "name": "stdout",
     "output_type": "stream",
     "text": [
      "[[1, 2, 3], [4, 5, 6], [7, 8, 9]]\n",
      "3\n",
      "9\n"
     ]
    }
   ],
   "source": [
    "array1 = [\n",
    "    [1,2,3],\n",
    "    [4,5,6],\n",
    "    [7,8,9]\n",
    "]\n",
    "print(repr(array1))\n",
    "print(array1[0][2]) # prints 3 ie 1st index is for row and 2nd index is for column\n",
    "print(array1[2][2])"
   ]
  },
  {
   "cell_type": "markdown",
   "metadata": {},
   "source": [
    "Linked List\n",
    "node-a structure that contains the following:\n",
    "data(value stored in the node)\n",
    "pointer(reference to the next node)\n",
    "\n",
    "head-the first node in a linked list\n",
    "tail-the last node in a linked list"
   ]
  },
  {
   "cell_type": "code",
   "execution_count": 16,
   "metadata": {},
   "outputs": [
    {
     "name": "stdout",
     "output_type": "stream",
     "text": [
      "{0: (5, 1), 1: (2, 2), 2: (3, -1)}\n"
     ]
    }
   ],
   "source": [
    "linked_list={\n",
    "    0:(5,1),\n",
    "    1:(2,2), #the node with value 2 has a 1st value of 2 and a next node of 2\n",
    "    2:(3,-1) #-1 means the end of the node\n",
    "}\n",
    "print(linked_list)"
   ]
  },
  {
   "cell_type": "code",
   "execution_count": 20,
   "metadata": {},
   "outputs": [
    {
     "name": "stdout",
     "output_type": "stream",
     "text": [
      "linked_list\n",
      "5->2->3->none\n",
      "5->1.5->2->3->none\n",
      "1->2->3->none\n"
     ]
    }
   ],
   "source": [
    "linked_list={\n",
    "    0:(5,1),\n",
    "    1:(2,2), #the node with value 2 has a 1st value of 2 and a next node of 2\n",
    "    2:(3,-1) #-1 means the end of the node\n",
    "}\n",
    "def display_list():\n",
    "    index=0\n",
    "    while index != -1:\n",
    "        value,next_index=linked_list[index]\n",
    "        print(value,end=\"->\")\n",
    "        index=next_index\n",
    "    print(\"none\")\n",
    "print(\"linked_list\")\n",
    "display_list()\n",
    "\n",
    "linked_list[1]=(1.5,2)\n",
    "linked_list[2]=(2,3)\n",
    "linked_list[3]=(3,-1) #index data pointer\n",
    "display_list()\n",
    "\n",
    "#removing data from a linked list\n",
    "del linked_list[1]\n",
    "linked_list[0]=(1,2) #since the node of index 1 has been deleted , the node of index 0 now has a next node of 2\n",
    "display_list() #always update ur list ie when u delete cater for the deletion"
   ]
  },
  {
   "cell_type": "code",
   "execution_count": 21,
   "metadata": {},
   "outputs": [
    {
     "name": "stdout",
     "output_type": "stream",
     "text": [
      "stack [1, 2, 3]\n",
      "popped element: 3\n",
      "top most element 2\n"
     ]
    }
   ],
   "source": [
    "stack = []\n",
    "\n",
    "stack.append(1)\n",
    "stack.append(2)\n",
    "stack.append(3)\n",
    "print(\"stack\",stack)\n",
    "\n",
    "#removing elements from stack\n",
    "if stack:\n",
    "    popped=stack.pop()\n",
    "    print(\"popped element:\",popped)\n",
    "\n",
    "if stack:\n",
    "    print(\"top most element\", stack[-1])\n",
    "    "
   ]
  },
  {
   "cell_type": "code",
   "execution_count": 25,
   "metadata": {},
   "outputs": [
    {
     "name": "stdout",
     "output_type": "stream",
     "text": [
      "queue deque([1, 2, 3])\n",
      "queue is now a list [1, 2, 3]\n",
      "removed element 1\n",
      "front element 2\n"
     ]
    }
   ],
   "source": [
    "from collections import deque\n",
    "\n",
    "queue=deque()\n",
    "#append() function is used to add an element to the right side of the queue.\n",
    "queue.append(1)\n",
    "queue.append(2)\n",
    "queue.append(3)\n",
    "\n",
    "print(\"queue\", queue)  # Output: deque([1, 2, 3])\n",
    "print(\"queue is now a list\", list(queue))\n",
    "if queue:\n",
    "    removed_element=queue.popleft()\n",
    "    print(\"removed element\", removed_element)  # Output: 1\n",
    "\n",
    "if queue:\n",
    "    print(\"front element\", queue[0])"
   ]
  }
 ],
 "metadata": {
  "kernelspec": {
   "display_name": "Python 3",
   "language": "python",
   "name": "python3"
  },
  "language_info": {
   "codemirror_mode": {
    "name": "ipython",
    "version": 3
   },
   "file_extension": ".py",
   "mimetype": "text/x-python",
   "name": "python",
   "nbconvert_exporter": "python",
   "pygments_lexer": "ipython3",
   "version": "3.12.6"
  }
 },
 "nbformat": 4,
 "nbformat_minor": 2
}
