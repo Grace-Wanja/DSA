{
 "cells": [
  {
   "cell_type": "markdown",
   "metadata": {},
   "source": [
    "- GRACE WANJA B30299 "
   ]
  },
  {
   "cell_type": "markdown",
   "metadata": {},
   "source": [
    "- 1. Understanding Pseudocode and Flowcharts\n",
    "- A flowchart is a diagrammatic representation of an algorithm, a step-by-step approach to solving a task.\n",
    "-  A Pseudocode is a step-by-step description of an algorithm. It uses short phrases to write code for a program before it is implemented in a specific programming language. Its intended for human understanding rather machine reading\n",
    "\n",
    "- Pseudocode is an important in designing an algorithm as it helps the programmer in planning the solution to the problem as well as the reader in understanding the approach to the problem. Pseudocode is an intermediate state between an idea (algorithm) and its implementation (program) in a high level language.\n",
    "- Flowcharts help in algorithm design by providing a visual representation of the program's logic. They enable developers to see the flow of control and to identify potential problems or inefficiencies. Flowcharts can also be used to communicate the algorithm's logic to others.\n"
   ]
  },
  {
   "cell_type": "markdown",
   "metadata": {},
   "source": [
    "- Provide an example of a simple algorithm using both pseudocode and a flowchart.\n",
    "- An algorithm that finds the largest of two numbers \n",
    "- 1. Input two numbers, num1 and num2.\n",
    "- 2. If num1 is greater than num2, then num1 is the largest.\n",
    "- 3. Otherwise, num2 is the largest.\n",
    "- 4. Output the largest number."
   ]
  },
  {
   "cell_type": "markdown",
   "metadata": {},
   "source": [
    "- Pseudocode to find the largest of two numbers\n",
    "\n",
    "- START\n",
    "    - INPUT num1, num2\n",
    "    - IF num1 > num2 THEN\n",
    "        - PRINT \"num1 is the largest\"\n",
    "    - ELSE\n",
    "        - PRINT \"num2 is the largest\"\n",
    "    - END IF\n",
    "- END\n"
   ]
  },
  {
   "cell_type": "markdown",
   "metadata": {},
   "source": [
    "- 2. Finding the Largest of Three Numbers \n",
    "- A pseudocode for a program that accepts three numbers and prints the largest \n",
    "number.\n",
    "\n",
    "- START\n",
    "    - INPUT num1, num2, num3\n",
    "    - IF num1 > num2 AND num1 > num3 THEN\n",
    "        - PRINT \"num1 is the largest\"\n",
    "    - ELSE IF num2 > num1 AND num2 > num3 THEN\n",
    "        - PRINT \"num2 is the largest\"\n",
    "    - ELSE\n",
    "        - PRINT \"num3 is the largest\"\n",
    "    - END IF\n",
    "- END\n"
   ]
  },
  {
   "cell_type": "markdown",
   "metadata": {},
   "source": [
    "- 3. Printing Even Numbers from 1 to 50\n",
    "- A  pseudocode for a program that prints all even numbers from 1 to 50\n",
    "\n",
    "- START\n",
    "    - FOR num = 2 TO 50 STEP 2     \n",
    "        - PRINT num\n",
    "    - END FOR\n",
    "- END\n",
    "\n",
    "- ##This loop starts at 2 and increments by 2 each time, effectively covering all even numbers from 2 to 50.\n"
   ]
  },
  {
   "cell_type": "markdown",
   "metadata": {},
   "source": [
    "- 4. Voting Eligibility Checker\n",
    "- A pseudocode for a program that asks a user for their age and prints \"Eligible to \n",
    "vote\" if the age is 18 or above; otherwise, it prints \"Not eligible to vote\".\n",
    "\n",
    "- START\n",
    "    - INPUT age\n",
    "    - IF age >= 18 THEN\n",
    "        - PRINT \"Eligible to vote\"\n",
    "    - ELSE\n",
    "        - PRINT \"Not eligible to vote\"\n",
    "    - END IF\n",
    "- END\n"
   ]
  },
  {
   "cell_type": "markdown",
   "metadata": {},
   "source": [
    "- 5. Greatest Common Divisor (GCD) Calculation\n",
    "- A pseudocode for a function that takes two numbers as input and returns their \n",
    "Greatest Common Divisor (GCD)\n",
    "\n",
    "- START\n",
    "    - FUNCTION GCD(a, b)\n",
    "        - WHILE b ≠ 0\n",
    "            - temp = b\n",
    "            - b = a MOD b\n",
    "            - a = temp\n",
    "        - END WHILE\n",
    "        - RETURN a\n",
    "    - END FUNCTION\n",
    "\n",
    "    - INPUT num1, num2\n",
    "    - result = GCD(num1, num2)\n",
    "    - PRINT \"The GCD of\", num1, \"and\", num2, \"is\", result\n",
    "- END\n",
    "\n",
    "- GCD(a, b): This is the function that calculates the GCD of two numbers a and b.\n",
    "The WHILE loop runs until b becomes 0. In each iteration, b is replaced by the remainder of a divided by b, and a takes the value of the old b.\n",
    "When b becomes 0, the loop exits, and a holds the GCD of the two numbers.\n"
   ]
  },
  {
   "cell_type": "markdown",
   "metadata": {},
   "source": [
    "- 6. Symbols Used in Flowcharts\n",
    "- Explain the standard symbols used in flowcharts (e.g., start/end, process, decision, \n",
    "input/output).\n",
    "\n",
    "- Standard Flowchart Symbols:\n",
    "- OVAL (Start/End):\n",
    "\n",
    "Purpose: Denotes the beginning or end of the process.\n",
    "Example: \"Start\" or \"End\". Shape: Oval or rounded rectangle.\n",
    "\n",
    "- RECTANGLE (Process):\n",
    "\n",
    "Purpose: Represents a process or an operation in the flowchart, such as performing a - - - calculation or assigning a value.\n",
    "Example: \"Add two numbers\", \"Set value of x\".Shape: Rectangle.\n",
    "\n",
    "- DIAMOND (Decision):\n",
    "\n",
    "Purpose: Represents a decision point where the algorithm branches into two or more paths based on a condition (usually yes/no or true/false).\n",
    "Example: \"Is age >= 18?\", \"Is number even?\".Shape: Diamond.\n",
    "\n",
    "- PARALLELOGRAM (Input/Output):\n",
    "\n",
    "Purpose: Used to show input or output operations, like reading data from the user or displaying results.\n",
    "Example: \"Input number\", \"Print result\".\n",
    "Shape: Parallelogram.\n"
   ]
  },
  {
   "cell_type": "markdown",
   "metadata": {},
   "source": [
    "- A pseudocode for a program that asks the user for a number and checks if the number is even or odd.\n",
    "- \n",
    "- START\n",
    "    - INPUT number\n",
    "    - IF number MOD 2 = 0 THEN\n",
    "        - PRINT \"Even\"\n",
    "    - ELSE\n",
    "        - PRINT \"Odd\"\n",
    "    - END IF\n",
    "- END\n"
   ]
  },
  {
   "cell_type": "markdown",
   "metadata": {},
   "source": [
    "- 7. Checking If a Number is Positive, Negative, or Zero\n",
    "- A pseudocode for an algorithm that determines whether a given number is \n",
    "positive, negative, or zero. \n",
    "\n",
    "- START\n",
    "    - INPUT number\n",
    "    - IF number > 0 THEN\n",
    "        - PRINT \"Positive\"\n",
    "    - ELSE IF number < 0 THEN\n",
    "        - PRINT \"Negative\"\n",
    "    - ELSE\n",
    "        - PRINT \"Zero\"\n",
    "    - END IF\n",
    "- END\n"
   ]
  },
  {
   "cell_type": "markdown",
   "metadata": {},
   "source": [
    "- 8. Summing All Numbers from 1 to N\n",
    "- A pseudocode for a program that calculates the sum of all numbers from 1 to N, \n",
    "where N is entered by the user. \n",
    "- START\n",
    "    - INPUT N\n",
    "    - sum = 0\n",
    "    - FOR i = 1 TO N\n",
    "        - sum = sum + i\n",
    "    - END FOR\n",
    "    - PRINT \"The sum of numbers from 1 to\", N, \"is\", sum\n",
    "- END\n"
   ]
  },
  {
   "cell_type": "markdown",
   "metadata": {},
   "source": [
    "- 9. ATM Transaction Process\n",
    "- A pseudocode for an ATM transaction\n",
    "\n",
    "- START\n",
    "    - PIN = \"1234\"  // Predefined correct PIN\n",
    "    - attempts = 0  // Counter for failed attempts\n",
    "    \n",
    "    - WHILE attempts < 3\n",
    "        - INPUT userPIN\n",
    "        - IF userPIN = PIN THEN\n",
    "            - PRINT \"PIN correct\"\n",
    "            - // Allow user to proceed with withdrawal\n",
    "            - INPUT withdrawalAmount\n",
    "            - PRINT \"Transaction successful\"\n",
    "            - EXIT\n",
    "        - ELSE\n",
    "            - PRINT \"Incorrect PIN\"\n",
    "            - attempts = attempts + 1\n",
    "        - END IF\n",
    "    - END WHILE\n",
    "    \n",
    "    - IF attempts = 3 THEN\n",
    "        - PRINT \"Account locked. Too many failed attempts.\"\n",
    "    - END IF\n",
    "- END\n"
   ]
  },
  {
   "cell_type": "markdown",
   "metadata": {},
   "source": [
    "- 10. Factorial Calculation\n",
    "- A pseudocode for calculating the factorial of a number entered by the user. \n",
    "\n",
    "- START\n",
    "    - INPUT n\n",
    "    - factorial = 1\n",
    "    - FOR i = 1 TO n\n",
    "        - factorial = factorial * i\n",
    "    - END FOR\n",
    "    - PRINT \"The factorial of\", n, \"is\", factorial\n",
    "- END\n",
    "\n",
    "- ##The factorial of a number n, denoted n!, is the product of all positive integers less than or equal to n.\n"
   ]
  }
 ],
 "metadata": {
  "language_info": {
   "name": "python"
  }
 },
 "nbformat": 4,
 "nbformat_minor": 2
}
