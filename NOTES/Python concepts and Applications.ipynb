{
 "cells": [
  {
   "cell_type": "markdown",
   "metadata": {},
   "source": [
    "- SECTION 1 Python Basic"
   ]
  },
  {
   "cell_type": "code",
   "execution_count": 1,
   "metadata": {},
   "outputs": [
    {
     "name": "stdout",
     "output_type": "stream",
     "text": [
      "5\n",
      "Grace\n",
      "0.1\n",
      "True\n",
      "<class 'int'>\n",
      "<class 'str'>\n",
      "<class 'float'>\n",
      "<class 'bool'>\n"
     ]
    }
   ],
   "source": [
    "##1\n",
    "#Variables and Data types.\n",
    "#Variables in python are containers for storing data values\n",
    "#Data types are the values stored in a named variable and these include;\n",
    "#Integers(int) which are whole numbers(1,3,-7,...)\n",
    "#Floats(float) which are decimal numbers(0.1, 3.0, -9.0,...)\n",
    "#strings(str) these are characters under quotation marks (\"hello\", \"world\")\n",
    "#Booleans(bool) these are the logical values True or False\n",
    "#Variables are created when values are assigned to them using the = operator for example;\n",
    "###Variable assignment\n",
    "x = 5 #integer 5 is assigned to variable x \n",
    "y = 'Grace' #string 'Grace' is assigned to  variable y\n",
    "z = 0.1 #float 0.1 is assigned to variable z\n",
    "is_odd = True #boolean True is assigned to variable is_odd\n",
    "\n",
    "print(x)\n",
    "print(y)\n",
    "print(z)\n",
    "print(is_odd)\n",
    "\n",
    "##Type Checking\n",
    "# type() is used for checking the variable type ie;\n",
    "\n",
    "print(type(x))\n",
    "print(type(y))\n",
    "print(type(z))\n",
    "print(type(is_odd))"
   ]
  },
  {
   "cell_type": "code",
   "execution_count": null,
   "metadata": {},
   "outputs": [
    {
     "name": "stdout",
     "output_type": "stream",
     "text": [
      "b is greater than a\n"
     ]
    }
   ],
   "source": [
    "##2\n",
    "#Control Flow\n",
    "#we use the if statement to write code that responds to different situations\n",
    "# the block of code here is excuted when true ie;\n",
    "a = 33\n",
    "b = 49\n",
    "if b > a:\n",
    "    print('b is greater than a')\n",
    "\n",
    "#we use the elif statement to subsequently check multiple conditions\n",
    "#the block of code is excuted when True\n",
    "#we use the else statement when none of the preceding conditions are true"
   ]
  },
  {
   "cell_type": "code",
   "execution_count": 9,
   "metadata": {},
   "outputs": [
    {
     "name": "stdout",
     "output_type": "stream",
     "text": [
      "-8 is a negative number\n"
     ]
    }
   ],
   "source": [
    "#An example to determine whether a number is postive, negative or a zero \n",
    "#here we use the if, elif and else statements\n",
    "\n",
    "a = -8\n",
    "if a > 0:\n",
    "    print(f'{a} is a positive number')\n",
    "elif a < 0:\n",
    "    print(f'{a} is a negative number')\n",
    "else:\n",
    "    print(f'{a} is a zero')"
   ]
  },
  {
   "cell_type": "code",
   "execution_count": 10,
   "metadata": {},
   "outputs": [
    {
     "name": "stdout",
     "output_type": "stream",
     "text": [
      "1\n",
      "2\n",
      "3\n",
      "4\n",
      "5\n",
      "6\n",
      "7\n",
      "8\n",
      "9\n",
      "10\n",
      "1\n",
      "2\n",
      "3\n",
      "4\n",
      "5\n",
      "6\n",
      "7\n",
      "8\n",
      "9\n",
      "10\n"
     ]
    }
   ],
   "source": [
    "##3\n",
    "#Loops\n",
    "#For and While Loops in python\n",
    "#A For loop is used for iterating over a sequence that is either a list, tuple, set or a string\n",
    "#A while loop is used to execute a set of statements as long as the condition is True\n",
    "#A for loop automatically stops after completing an iteration\n",
    "#A while loop needs manual condition, control and updates to stop ie;\n",
    "\n",
    "##using the for loop to print numbers from 1 to 10\n",
    "for i in range(1,11): #the for loop iterates over this list\n",
    "    print(i)\n",
    "\n",
    "##using the while loop to print numbers from 1 to 10\n",
    "i = 1\n",
    "while i <= 10: #this loop runs as long as the condition remains true\n",
    "    print(i)\n",
    "    i += 1 #the increment counter is a manual way to prevent the loop from running continuously"
   ]
  },
  {
   "cell_type": "code",
   "execution_count": null,
   "metadata": {},
   "outputs": [
    {
     "name": "stdout",
     "output_type": "stream",
     "text": [
      "1\n",
      "2\n",
      "3\n",
      "4\n"
     ]
    }
   ],
   "source": [
    "##4\n",
    "#Loop control statements; break, continue and pass\n",
    "#The break statement is used to stop the loop even if the while condition is true \n",
    "#ie the loop can be exited under a defined condition\n",
    "i = 1\n",
    "while i <= 10:\n",
    "    print(i)\n",
    "    if i == 4:\n",
    "        break #exists the loop when i is equal to 4\n",
    "    i += 1"
   ]
  },
  {
   "cell_type": "code",
   "execution_count": null,
   "metadata": {},
   "outputs": [
    {
     "name": "stdout",
     "output_type": "stream",
     "text": [
      "1\n",
      "2\n",
      "3\n",
      "5\n"
     ]
    }
   ],
   "source": [
    "#The continue statement stops the current iteration and continues with the next\n",
    "#for example, if i is 3, continue to the next iteration instead\n",
    "\n",
    "i = 1\n",
    "while i <= 5:\n",
    "    if i == 4:#if number is equal to 4\n",
    "        i += 1#increment to avoid an infinite loop \n",
    "        continue #skips the current iteration\n",
    "    print(i)\n",
    "    i += 1 #increment to move to the next number"
   ]
  },
  {
   "cell_type": "code",
   "execution_count": null,
   "metadata": {},
   "outputs": [
    {
     "name": "stdout",
     "output_type": "stream",
     "text": [
      "1\n",
      "2\n",
      "3\n",
      "5\n"
     ]
    }
   ],
   "source": [
    "#using a for loop\n",
    "for i in range(1,6):\n",
    "    if i == 4:\n",
    "        continue\n",
    "    print(i)"
   ]
  },
  {
   "cell_type": "code",
   "execution_count": 4,
   "metadata": {},
   "outputs": [
    {
     "name": "stdout",
     "output_type": "stream",
     "text": [
      "1\n",
      "2\n",
      "3\n",
      "4\n",
      "5\n"
     ]
    }
   ],
   "source": [
    "#The pass statement does nothing when executed,\n",
    "#its used as a placeholder to ensure the code has no syntax errors\n",
    "#its used when a code is under development and a loop is needed but no action is required for certain conditions\n",
    "for i in range(1,6):\n",
    "    if i == 3: #no operation is performed and the loop simply continues to the next iteration\n",
    "        pass\n",
    "    print(i)"
   ]
  },
  {
   "cell_type": "markdown",
   "metadata": {},
   "source": [
    "- SECTON 2 Python Functions\n"
   ]
  },
  {
   "cell_type": "markdown",
   "metadata": {},
   "source": [
    "Function Basics\n",
    "- In python a function is defined by the def keyword\n",
    "-  a function name is provided and is ended with parenthesis often with parameters inside\n",
    "- followed by a colon\n",
    "- then an indented block of code containing the logic "
   ]
  },
  {
   "cell_type": "markdown",
   "metadata": {},
   "source": [
    "To call the function, use the function name followed by parenthesis\n",
    "- if function has parameters, pass arguements within the parameters "
   ]
  },
  {
   "cell_type": "code",
   "execution_count": null,
   "metadata": {},
   "outputs": [
    {
     "name": "stdout",
     "output_type": "stream",
     "text": [
      "hello lady\n"
     ]
    }
   ],
   "source": [
    "def my_function(): #defining the function\n",
    "    print('hello lady')\n",
    "\n",
    "my_function() #calling out the function"
   ]
  },
  {
   "cell_type": "code",
   "execution_count": 35,
   "metadata": {},
   "outputs": [
    {
     "name": "stdout",
     "output_type": "stream",
     "text": [
      "The sum of these numbers is 10\n"
     ]
    }
   ],
   "source": [
    "#A function that takes two numbers as input and returns their sum\n",
    "def add_numbers(num1,num2):\n",
    "    return num1 + num2\n",
    "\n",
    "result = add_numbers(3,7)\n",
    "print(f'The sum of these numbers is {result}')"
   ]
  },
  {
   "cell_type": "markdown",
   "metadata": {},
   "source": [
    "Default and Keyword Arguments\n",
    "- A Default argument is a parameter that assumes a predefined value if no argument is provided during the function call\n",
    "- the default value used is that defined in the function header by assigning a default value to the parameter\n",
    "- A Keyword argument is one that allows you to specify an argument by its parameter name regardless of its position"
   ]
  },
  {
   "cell_type": "code",
   "execution_count": 2,
   "metadata": {},
   "outputs": [
    {
     "name": "stdout",
     "output_type": "stream",
     "text": [
      "My name is Grace and I am social\n"
     ]
    }
   ],
   "source": [
    "##function demonstrating Default arguments\n",
    "def person_personality(person_name='Grace',personality='social'):#this function describes a person with default name and personality\n",
    "    print(f\"My name is {person_name} and I am {personality}\")\n",
    "\n",
    "##Behaviour of the function without overiding defaults\n",
    "person_personality()"
   ]
  },
  {
   "cell_type": "code",
   "execution_count": 3,
   "metadata": {},
   "outputs": [
    {
     "name": "stdout",
     "output_type": "stream",
     "text": [
      "My name is Peace and I am brilliant\n"
     ]
    }
   ],
   "source": [
    "##Overriding defaults with position Arguments\n",
    "person_personality('Peace','brilliant')"
   ]
  },
  {
   "cell_type": "code",
   "execution_count": 4,
   "metadata": {},
   "outputs": [
    {
     "name": "stdout",
     "output_type": "stream",
     "text": [
      "My name is Sophia and I am wise\n"
     ]
    }
   ],
   "source": [
    "##Overriding Defaults with keyword arguments\n",
    "person_personality(person_name='Sophia',personality='wise')"
   ]
  },
  {
   "cell_type": "code",
   "execution_count": 5,
   "metadata": {},
   "outputs": [
    {
     "name": "stdout",
     "output_type": "stream",
     "text": [
      "My name is Baraka and I am social\n"
     ]
    }
   ],
   "source": [
    "##overriding partially\n",
    "#here we mix default and custom\n",
    "person_personality('Baraka') #this overrides only the person's name"
   ]
  },
  {
   "cell_type": "markdown",
   "metadata": {},
   "source": [
    "Lambda Functions and their use\n",
    "- A lambda function in Python is a small, anonymous function that is defined using the lambda keyword. Unlike regular functions defined with the def keyword, lambda functions are typically used for short, simple operations and can take any number of arguments but can only have one expression"
   ]
  },
  {
   "cell_type": "code",
   "execution_count": 9,
   "metadata": {},
   "outputs": [
    {
     "name": "stdout",
     "output_type": "stream",
     "text": [
      "[(7, 0), (1, 2), (4, 4), (3, 5)]\n"
     ]
    }
   ],
   "source": [
    "#Sorting a list of tuples by the second element\n",
    "data = [(1,2),(3,5),(7,0),(4,4)] #list of tuples\n",
    "sorted_data = sorted(data, key=lambda a:a[1]) #sortes list by second element\n",
    "print(sorted_data)\n"
   ]
  },
  {
   "cell_type": "markdown",
   "metadata": {},
   "source": [
    "Scope of Variables in Python \n",
    "- A scope refers to the region inside which a variable is created\n",
    "- python has three main types of variable scopes\n",
    "- 1. Local Variables where the variable is created inside the function and can only be used inside that function\n",
    "- 2. Global variable where the variable is declared outside of all functions and can be accessed anywhere in the program because its created in the main body of the python code\n",
    "- the global keyword is used to modify it \n",
    "- 3. Non local variables are those accessible in the nested function if declared with nonlocal\n",
    "- here we use the nonlocal keyword to make variables belong to the outer function.\n",
    "- its used to work with variables inside nested functions"
   ]
  },
  {
   "cell_type": "code",
   "execution_count": 10,
   "metadata": {},
   "outputs": [
    {
     "name": "stdout",
     "output_type": "stream",
     "text": [
      "how are you\n"
     ]
    }
   ],
   "source": [
    "##effects of variable scopes to accessibility in nested functions\n",
    "#for local variables\n",
    "def my_function():\n",
    "    greeting = 'how are you'\n",
    "    print(greeting)\n",
    "my_function()\n",
    "#print(greeting) cannot run cause its not defined outside the function"
   ]
  },
  {
   "cell_type": "code",
   "execution_count": 12,
   "metadata": {},
   "outputs": [
    {
     "name": "stdout",
     "output_type": "stream",
     "text": [
      "i am international\n"
     ]
    }
   ],
   "source": [
    "#for global variables\n",
    "global_var = 'i am international'\n",
    "\n",
    "def my_function():\n",
    "    print(global_var) #accessible inside \n",
    "my_function\n",
    "print(global_var) #also accessible outside the function"
   ]
  },
  {
   "cell_type": "code",
   "execution_count": 17,
   "metadata": {},
   "outputs": [
    {
     "name": "stdout",
     "output_type": "stream",
     "text": [
      "Wisdom\n"
     ]
    }
   ],
   "source": [
    "#for nonlocal variables\n",
    "def outer_function():\n",
    "    my_name = 'Grace'\n",
    "\n",
    "    def inner_function():\n",
    "        nonlocal my_name\n",
    "        my_name = \"Wisdom\" #the variable now belong to the outter function\n",
    "         \n",
    "    inner_function()\n",
    "    return my_name\n",
    "print(outer_function())"
   ]
  },
  {
   "cell_type": "code",
   "execution_count": 20,
   "metadata": {},
   "outputs": [
    {
     "name": "stdout",
     "output_type": "stream",
     "text": [
      "Ugandan\n",
      "female\n",
      "Sophia\n"
     ]
    }
   ],
   "source": [
    "##Demonstrating all scopes \n",
    "name = 'Grace' #global variable\n",
    "\n",
    "def outer_function():\n",
    "    gender = 'male'\n",
    "    def inner_function():\n",
    "        nonlocal gender #refers to the outter functions variable\n",
    "        gender = 'female' #this is the modified outer function variable\n",
    "        global name #the global variable name\n",
    "        name = 'Sophia'#the modified global variable\n",
    "        nationality = 'Ugandan' #local variable \n",
    "        print(nationality) ##can olny be accessed here\n",
    "\n",
    "    inner_function()\n",
    "    print(gender) #will print the modified gender\n",
    "\n",
    "outer_function()\n",
    "print(name) #will print the modified global variable modified by the inner_function\n"
   ]
  },
  {
   "cell_type": "markdown",
   "metadata": {},
   "source": [
    "- SECTION 3. Python Data Structure\n",
    "- 1. Lists\n",
    "-  these are used to store multiple items in a single variable\n",
    "- they are created using square brackets \n",
    "- list items are ordered, changeable, and allow duplicate values\n",
    "- the list items are indexed  with the first item index being [0]\n",
    "- when new items are added they are added to the end of the list because lists have a defined order\n",
    "- Slicing is used to extract a subset of elements from a list using the syntax; list[start:stop:step]\n",
    "- the start index begins the slice, the stop ends the slice but is exclusive of the slice and the step is the interval between the elements \n",
    "- append(item): adds an item to the end of the list\n",
    "- pop(index): reemoves and returns the item at the specified index and if index is not spevcified, the last item is removed by default"
   ]
  },
  {
   "cell_type": "code",
   "execution_count": 21,
   "metadata": {},
   "outputs": [
    {
     "name": "stdout",
     "output_type": "stream",
     "text": [
      "1\n",
      "[1, 2]\n",
      "[4, 5, 7]\n",
      "[1, 4, 7]\n",
      "[1, 2, 4]\n",
      "[7, 5, 4, 2, 1]\n"
     ]
    }
   ],
   "source": [
    "#How to slice a list\n",
    "my_list = [1,2,4,5,7]\n",
    "\n",
    "#scliing\n",
    "print(my_list[0])\n",
    "print(my_list[0:2])\n",
    "print(my_list[2:])\n",
    "print(my_list[::2])\n",
    "print(my_list[:3])\n",
    "print(my_list[::-1])"
   ]
  },
  {
   "cell_type": "code",
   "execution_count": 1,
   "metadata": {},
   "outputs": [
    {
     "name": "stdout",
     "output_type": "stream",
     "text": [
      "[1, 2, 3, 4]\n",
      "[1, 2, 3, 4, 5, 6]\n",
      "[1, 2, 3, 11, 4, 5, 6]\n"
     ]
    }
   ],
   "source": [
    "#How to add elements to a list using append()\n",
    "his_list = [1,2,3]\n",
    "his_list.append(4) #adds 4 to the end of the list\n",
    "print(his_list)\n",
    "\n",
    "#to add multiple elements to the list use extend()\n",
    "his_list.extend([5,6])\n",
    "print(his_list)\n",
    "\n",
    "#adding an item at a specified index using insert\n",
    "his_list.insert(3, 11) #inserts 11 at index 3\n",
    "print(his_list)\n"
   ]
  },
  {
   "cell_type": "code",
   "execution_count": 23,
   "metadata": {},
   "outputs": [
    {
     "name": "stdout",
     "output_type": "stream",
     "text": [
      "[1, 2, 3, 4, 5, 6]\n",
      "[1, 3, 4, 5, 6]\n",
      "[1, 4, 5, 6]\n",
      "[]\n"
     ]
    }
   ],
   "source": [
    "#How to remove elements from a list using pop()\n",
    "my_list = [1,2,3,4,5,6,7]\n",
    "removed = my_list.pop() #removes last item\n",
    "print(my_list)\n",
    "\n",
    "my_list.pop(1) #removes the specific element at that index\n",
    "print(my_list)\n",
    "\n",
    "my_list.remove(3) #removes the specified element ie the 1st occurence of 3\n",
    "print(my_list)\n",
    "\n",
    "my_list.clear() #clears the entire list\n",
    "print(my_list)\n",
    "\n"
   ]
  },
  {
   "cell_type": "markdown",
   "metadata": {},
   "source": [
    "- 2. Dictionaries\n",
    "- these are used to store data values in key value pairs where keys are uinique and immutable (e.g, numbers, strings, tuples) and values can be of any data type and can be duplicated\n",
    "- they are ordered, changeable and donnot allow duplicates \n",
    "- they are written with curly brackets and have key values and the dict() instructor\n"
   ]
  },
  {
   "cell_type": "code",
   "execution_count": 25,
   "metadata": {},
   "outputs": [
    {
     "name": "stdout",
     "output_type": "stream",
     "text": [
      "Grace\n",
      "31\n",
      "{'name': 'Grace', 'age': 31, 'city': 'Kampala', 'country': 'Uganda'}\n"
     ]
    }
   ],
   "source": [
    "#Working with key value pairs\n",
    "#you can access a value by its key using square brackets [].\n",
    "# If the key does not exist, a KeyError is raised.\n",
    "person = {\"name\": \"Grace\", \"age\": 30, \"city\": \"Kampala\"}\n",
    "\n",
    "print(person[\"name\"])  \n",
    "\n",
    "# Modifying a value\n",
    "person[\"age\"] = 31\n",
    "print(person[\"age\"])  \n",
    "\n",
    "# Adding a new key-value pair\n",
    "person[\"country\"] = \"Uganda\"\n",
    "print(person)  "
   ]
  },
  {
   "cell_type": "code",
   "execution_count": 26,
   "metadata": {},
   "outputs": [
    {
     "name": "stdout",
     "output_type": "stream",
     "text": [
      "dict_keys(['name', 'age', 'city'])\n",
      "dict_values(['Grace', 21, 'Kla'])\n",
      "dict_items([('name', 'Grace'), ('age', 21), ('city', 'Kla')])\n"
     ]
    }
   ],
   "source": [
    "#The keys(), values(), and items() methods \n",
    "# are used to access the keys, values, and key-value pairs of a dictionary, respectively.\n",
    "#The keys() method returns a view object that displays a list of all the keys in the dictionary.\n",
    "person = {\"name\": \"Grace\", \"age\": 21, \"city\": \"Kla\"}\n",
    "\n",
    "print(person.keys())  # Output: dict_keys(['name', 'age', 'city'])\n",
    "\n",
    "#The values() method returns a view object that displays a list of all the values in the dictionary.\n",
    "person = {\"name\": \"Grace\", \"age\": 21, \"city\": \"Kla\"}\n",
    "\n",
    "print(person.values())  # Output: dict_values\n",
    "\n",
    "#The items() method returns a view object that displays a list of all the key-value pairs in the dictionary.\n",
    "person = {\"name\": \"Grace\", \"age\": 21, \"city\": \"Kla\"}\n",
    "\n",
    "print(person.items())  # Output: dict_items\n"
   ]
  },
  {
   "cell_type": "markdown",
   "metadata": {},
   "source": [
    "- 3. Sets are an unordered collection of unique elements in Python. They are used to store multiple items in a single variable. Sets are mutable, meaning they can be modified after creation.\n",
    "- Sets are created using the set() function or the {} syntax. They can\n",
    "- common set operations such as\n",
    "- union which combines all elements from two sets removing duplicates\n",
    "- The intersection of two sets is a set containing all elements that are common to both sets.\n",
    "- The difference of two sets is a set containing all elements that are in the first set but not in the second set."
   ]
  },
  {
   "cell_type": "code",
   "execution_count": 28,
   "metadata": {},
   "outputs": [
    {
     "name": "stdout",
     "output_type": "stream",
     "text": [
      "{1, 2, 3, 4, 5, 6, 7, 8}\n",
      "{1, 2, 3, 4, 5, 6, 7, 8}\n"
     ]
    }
   ],
   "source": [
    "#Examples to demonstrate:\n",
    "##union\n",
    "# Define two sets\n",
    "set1 = {1, 2, 3, 4, 5}\n",
    "set2 = {4, 5, 6, 7, 8}\n",
    "\n",
    "# Calculate the union of the two sets\n",
    "union_set = set1.union(set2)\n",
    "print(union_set)  # Output: {1, 2, 3, 4, 5, 6, 7, 8}\n",
    "\n",
    "# Alternatively, use the | operator\n",
    "union_set = set1 | set2\n",
    "print(union_set)  # Output: {1, 2, 3, 4, 5, 6, 7, 8}"
   ]
  },
  {
   "cell_type": "code",
   "execution_count": 29,
   "metadata": {},
   "outputs": [
    {
     "name": "stdout",
     "output_type": "stream",
     "text": [
      "{4, 5}\n",
      "{4, 5}\n"
     ]
    }
   ],
   "source": [
    "##intersection\n",
    "# Define two sets\n",
    "set1 = {1, 2, 3, 4, 5}\n",
    "set2 = {4, 5, 6, 7, 8}\n",
    "\n",
    "# Calculate the intersection of the two sets\n",
    "intersection_set = set1.intersection(set2)\n",
    "print(intersection_set)  # Output: {4, 5}\n",
    "\n",
    "# Alternatively, use the & operator\n",
    "intersection_set = set1 & set2\n",
    "print(intersection_set)  # Output: {4, 5}"
   ]
  },
  {
   "cell_type": "code",
   "execution_count": 30,
   "metadata": {},
   "outputs": [
    {
     "name": "stdout",
     "output_type": "stream",
     "text": [
      "{1, 2, 3}\n",
      "{1, 2, 3}\n"
     ]
    }
   ],
   "source": [
    "##Difference\n",
    "# Define two sets\n",
    "set1 = {1, 2, 3, 4, 5}\n",
    "set2 = {4, 5, 6, 7, 8}\n",
    "\n",
    "# Calculate the difference of the two sets\n",
    "difference_set = set1.difference(set2)\n",
    "print(difference_set)  # Output: {1, 2, 3}\n",
    "\n",
    "# Alternatively, use the - operator\n",
    "difference_set = set1 - set2\n",
    "print(difference_set)  # Output: {1, 2, 3}"
   ]
  },
  {
   "cell_type": "markdown",
   "metadata": {},
   "source": [
    "- 4. Tuples\n",
    "- a tuple is an ordered, immutable collection of items that can store multiple values in a single variable. They are similar to lists, but with some key differences which include:\n",
    "- Immutability: Tuples are immutable, meaning that their contents cannot be modified after creation.\n",
    "- Ordered: Tuples are ordered, meaning that the order of the elements matters.\n",
    "- Indexed: Tuples are indexed, meaning that each element can be accessed using its index (position in the tuple).\n",
    "- Heterogeneous: Tuples can store elements of different data types.\n"
   ]
  },
  {
   "cell_type": "code",
   "execution_count": 31,
   "metadata": {},
   "outputs": [
    {
     "name": "stdout",
     "output_type": "stream",
     "text": [
      "(1, 2, 3, 4, 5)\n",
      "(1, 2, 3, 4, 5)\n"
     ]
    }
   ],
   "source": [
    "##Tuples can be created using the () syntax or the tuple() function.\n",
    "# Create a tuple using the () syntax\n",
    "my_tuple = (1, 2, 3, 4, 5)\n",
    "print(my_tuple)  # Output: (1, 2, 3, 4, 5)\n",
    "\n",
    "# Create a tuple using the tuple() function\n",
    "my_tuple = tuple([1, 2, 3, 4, 5])\n",
    "print(my_tuple)  # Output: (1, 2, 3, 4, 5)"
   ]
  },
  {
   "cell_type": "code",
   "execution_count": 32,
   "metadata": {},
   "outputs": [
    {
     "name": "stdout",
     "output_type": "stream",
     "text": [
      "1\n",
      "5\n",
      "(2, 3)\n"
     ]
    }
   ],
   "source": [
    "##Tuples can be indexed using square brackets [].\n",
    "# Create a tuple\n",
    "my_tuple = (1, 2, 3, 4, 5)\n",
    "\n",
    "# Access an element using its index\n",
    "print(my_tuple[0])  # Output: 1\n",
    "print(my_tuple[4])  # Output: 5\n",
    "\n",
    "# Access a range of elements using slicing\n",
    "print(my_tuple[1:3])  # Output: (2, 3)"
   ]
  },
  {
   "cell_type": "code",
   "execution_count": 1,
   "metadata": {},
   "outputs": [
    {
     "name": "stdout",
     "output_type": "stream",
     "text": [
      "1\n",
      "2\n",
      "3\n",
      "4\n",
      "5\n"
     ]
    }
   ],
   "source": [
    "##Tuples can be unpacked into separate variables.\n",
    "# Create a tuple\n",
    "my_tuple = (1, 2, 3, 4, 5)\n",
    "\n",
    "# Unpack the tuple into separate variables\n",
    "a, b, c, d, e = my_tuple\n",
    "print(a)  # Output: 1\n",
    "print(b)  # Output: 2\n",
    "print(c)  # Output: 3\n",
    "print(d)  # Output: 4\n",
    "print(e)  # Output: 5\n"
   ]
  },
  {
   "cell_type": "markdown",
   "metadata": {},
   "source": [
    "- 5. Python strings are sequences of characters enclosed in quotes (either single quotes or double quotes). They are immutable, meaning that their contents cannot be modified after creation.\n",
    "- some of the common string methods include;\n",
    "- The split() method splits a string into a list of substrings based on a specified separator.\n",
    "- The join() method concatenates a list of strings into a single string.\n",
    "- The replace() method replaces all occurrences of a specified substring with another substring.\n"
   ]
  },
  {
   "cell_type": "code",
   "execution_count": 34,
   "metadata": {},
   "outputs": [
    {
     "name": "stdout",
     "output_type": "stream",
     "text": [
      "apple,banana,cherry\n"
     ]
    }
   ],
   "source": [
    "#Join\n",
    "# Create a list of strings\n",
    "fruits = [\"apple\", \"banana\", \"cherry\"]\n",
    "\n",
    "# Join the list of strings into a single string\n",
    "my_string = \",\".join(fruits)\n",
    "print(my_string)  # Output: apple,banana,cherry"
   ]
  },
  {
   "cell_type": "code",
   "execution_count": 35,
   "metadata": {},
   "outputs": [
    {
     "name": "stdout",
     "output_type": "stream",
     "text": [
      "I love bananas\n"
     ]
    }
   ],
   "source": [
    "#replace()\n",
    "# Create a string\n",
    "my_string = \"I love apples\"\n",
    "\n",
    "# Replace all occurrences of \"apples\" with \"bananas\"\n",
    "my_string = my_string.replace(\"apples\", \"bananas\")\n",
    "print(my_string)  # Output: I love bananas"
   ]
  },
  {
   "cell_type": "code",
   "execution_count": 37,
   "metadata": {},
   "outputs": [
    {
     "name": "stdout",
     "output_type": "stream",
     "text": [
      "['apple', 'banana', 'cherry']\n"
     ]
    }
   ],
   "source": [
    "#split\n",
    "# Create a string\n",
    "my_string = \"apple,banana,cherry\"\n",
    "\n",
    "# Split the string into a list of substrings\n",
    "fruits = my_string.split(\",\")\n",
    "print(fruits)  # Output: ['apple', 'banana', 'cherry']"
   ]
  },
  {
   "cell_type": "code",
   "execution_count": 38,
   "metadata": {},
   "outputs": [
    {
     "name": "stdout",
     "output_type": "stream",
     "text": [
      "Hello\n",
      "World!\n",
      "World\n"
     ]
    }
   ],
   "source": [
    "#String slicing allows you to extract a subset of characters from a string.\n",
    "# Create a string\n",
    "my_string = \"Hello, World!\"\n",
    "\n",
    "# Extract the first 5 characters\n",
    "print(my_string[:5])  # Output: Hello\n",
    "\n",
    "# Extract the last 6 characters\n",
    "print(my_string[-6:])  # Output: World!\n",
    "\n",
    "# Extract a subset of characters\n",
    "print(my_string[7:12])  # Output: World"
   ]
  },
  {
   "cell_type": "code",
   "execution_count": 44,
   "metadata": {},
   "outputs": [
    {
     "name": "stdout",
     "output_type": "stream",
     "text": [
      "My name is Grace and I am 21 years old.\n",
      "My name is Grace and I am 21 years old.\n"
     ]
    }
   ],
   "source": [
    "#String formatting allows you to insert values into a string.\n",
    "# Create a string with placeholders\n",
    "my_string = \"My name is {} and I am {} years old.\"\n",
    "\n",
    "# Format the string with values\n",
    "print(my_string.format(\"Grace\", 21))  \n",
    "\n",
    "# Create a string with named placeholders\n",
    "my_string = \"My name is {name} and I am {age} years old.\"\n",
    "\n",
    "# Format the string with values\n",
    "print(my_string.format(name=\"Grace\", age=21))  \n"
   ]
  },
  {
   "cell_type": "code",
   "execution_count": 45,
   "metadata": {},
   "outputs": [
    {
     "name": "stdout",
     "output_type": "stream",
     "text": [
      "HELLO, WORLD!\n",
      "hello, world!\n",
      "Hello, World!\n",
      "True\n",
      "True\n"
     ]
    }
   ],
   "source": [
    "#String manipulation allows you to perform various operations on strings\n",
    "# Create a string\n",
    "my_string = \"Hello, World!\"\n",
    "\n",
    "# Convert the string to uppercase\n",
    "print(my_string.upper())  \n",
    "\n",
    "# Convert the string to lowercase\n",
    "print(my_string.lower())  \n",
    "\n",
    "# Remove leading and trailing whitespace\n",
    "print(my_string.strip())  \n",
    "\n",
    "# Check if the string starts with a specified substring\n",
    "print(my_string.startswith(\"Hello\")) \n",
    "\n",
    "# Check if the string ends with a specified substring\n",
    "print(my_string.endswith(\"World!\")) "
   ]
  },
  {
   "cell_type": "markdown",
   "metadata": {},
   "source": [
    "- 4. SECTION 4 Python Built-in Functions\n",
    "- Python built-in functions are pre-defined functions that can be used to perform various operations on data. They are an essential part of the Python language and can be used to simplify code and improve readability.\n",
    "- Built-in functions are used to perform common operations such as:\n",
    "\n",
    "  - Calculating the length of a sequence (e.g., len())\n",
    "  - Calculating the sum of a sequence (e.g., sum())\n",
    "  - Finding the maximum or minimum value in a sequence (e.g., max() and min())\n",
    "  - Converting data types (e.g., int(), float(), str())\n",
    "  - Performing mathematical operations (e.g., abs(), pow(), round())\n",
    "\n"
   ]
  },
  {
   "cell_type": "code",
   "execution_count": 41,
   "metadata": {},
   "outputs": [
    {
     "name": "stdout",
     "output_type": "stream",
     "text": [
      "5\n",
      "5\n",
      "13\n"
     ]
    }
   ],
   "source": [
    "#Examples using\n",
    "#len() which returns the length of a sequence\n",
    "# Create a list\n",
    "my_list = [1, 2, 3, 4, 5]\n",
    "\n",
    "# Calculate the length of the list\n",
    "print(len(my_list))  \n",
    "\n",
    "# Create a tuple\n",
    "my_tuple = (1, 2, 3, 4, 5)\n",
    "\n",
    "# Calculate the length of the tuple\n",
    "print(len(my_tuple))  \n",
    "\n",
    "# Create a string\n",
    "my_string = \"Hello, World!\"\n",
    "\n",
    "# Calculate the length of the string\n",
    "print(len(my_string))  "
   ]
  },
  {
   "cell_type": "code",
   "execution_count": 42,
   "metadata": {},
   "outputs": [
    {
     "name": "stdout",
     "output_type": "stream",
     "text": [
      "15\n",
      "15\n"
     ]
    }
   ],
   "source": [
    "#sum() which returns the sum of a sequence\n",
    "# Create a list\n",
    "my_list = [1, 2, 3, 4, 5]\n",
    "\n",
    "# Calculate the sum of the list\n",
    "print(sum(my_list))  \n",
    "\n",
    "# Create a tuple\n",
    "my_tuple = (1, 2, 3, 4, 5)\n",
    "\n",
    "# Calculate the sum of the tuple\n",
    "print(sum(my_tuple))  "
   ]
  },
  {
   "cell_type": "code",
   "execution_count": 43,
   "metadata": {},
   "outputs": [
    {
     "name": "stdout",
     "output_type": "stream",
     "text": [
      "5\n",
      "1\n",
      "5\n",
      "1\n"
     ]
    }
   ],
   "source": [
    "#max() and min()\n",
    "#The max() and min() functions return the maximum and minimum values in a sequence (e.g., list, tuple).\n",
    "# Create a list\n",
    "my_list = [1, 2, 3, 4, 5]\n",
    "\n",
    "# Calculate the maximum value in the list\n",
    "print(max(my_list))  \n",
    "\n",
    "# Calculate the minimum value in the list\n",
    "print(min(my_list))  \n",
    "\n",
    "# Create a tuple\n",
    "my_tuple = (1, 2, 3, 4, 5)\n",
    "\n",
    "# Calculate the maximum value in the tuple\n",
    "print(max(my_tuple))  \n",
    "\n",
    "# Calculate the minimum value in the tuple\n",
    "print(min(my_tuple))  "
   ]
  }
 ],
 "metadata": {
  "kernelspec": {
   "display_name": "Python 3",
   "language": "python",
   "name": "python3"
  },
  "language_info": {
   "codemirror_mode": {
    "name": "ipython",
    "version": 3
   },
   "file_extension": ".py",
   "mimetype": "text/x-python",
   "name": "python",
   "nbconvert_exporter": "python",
   "pygments_lexer": "ipython3",
   "version": "3.12.6"
  }
 },
 "nbformat": 4,
 "nbformat_minor": 2
}
