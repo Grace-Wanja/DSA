{
 "cells": [
  {
   "cell_type": "markdown",
   "metadata": {},
   "source": [
    "- 1.  List Operations"
   ]
  },
  {
   "cell_type": "code",
   "execution_count": 157,
   "metadata": {},
   "outputs": [
    {
     "name": "stdout",
     "output_type": "stream",
     "text": [
      "apples\n",
      "grapes\n"
     ]
    }
   ],
   "source": [
    "my_fruits = ['apples','mangoes','grapes']\n",
    "print(my_fruits[0]) #prints the first fruit of index 0\n",
    "print(my_fruits[-1]) #prints the last fruit of index -1"
   ]
  },
  {
   "cell_type": "code",
   "execution_count": 158,
   "metadata": {},
   "outputs": [
    {
     "name": "stdout",
     "output_type": "stream",
     "text": [
      "['apples', 'mangoes', 'grapes', 'guavas', 'cherries']\n"
     ]
    }
   ],
   "source": [
    "my_fruits.extend(['guavas','cherries']) #extend adds morethan one item to the list\n",
    "print(my_fruits)"
   ]
  },
  {
   "cell_type": "code",
   "execution_count": 159,
   "metadata": {},
   "outputs": [
    {
     "name": "stdout",
     "output_type": "stream",
     "text": [
      "['apples', 'grapes', 'guavas', 'cherries']\n"
     ]
    }
   ],
   "source": [
    "my_fruits.pop(1) #removes second item of index 1 from the list\n",
    "print(my_fruits)"
   ]
  },
  {
   "cell_type": "code",
   "execution_count": 160,
   "metadata": {},
   "outputs": [
    {
     "name": "stdout",
     "output_type": "stream",
     "text": [
      "['cherries', 'guavas', 'grapes', 'apples']\n"
     ]
    }
   ],
   "source": [
    "print(my_fruits[::-1]) #reverses the order of the fruits in the list"
   ]
  },
  {
   "cell_type": "markdown",
   "metadata": {},
   "source": [
    "- 2. Implement Adding and Removing Items from a List"
   ]
  },
  {
   "cell_type": "code",
   "execution_count": 161,
   "metadata": {},
   "outputs": [],
   "source": [
    "laundry = []\n",
    "def add_laundry(laundry,item): #function that adds an item to the laundry list\n",
    "    return laundry.append(item)\n",
    "def remove_laundry(laundry): #function that removes the first item from the laundry list\n",
    "    if laundry: #this checks is the list is not empty\n",
    "        return laundry.pop(0) #pop(0) removes the first item of index 0\n",
    "    else:\n",
    "        return None #none is returned if the list is empty"
   ]
  },
  {
   "cell_type": "code",
   "execution_count": 162,
   "metadata": {},
   "outputs": [
    {
     "name": "stdout",
     "output_type": "stream",
     "text": [
      "list upon adding items is ['clothes', 'shoes', 'soap']\n"
     ]
    }
   ],
   "source": [
    "add_laundry(laundry,'clothes')\n",
    "add_laundry(laundry,'shoes')\n",
    "add_laundry(laundry,'soap')  #adds these items to the laundry list\n",
    "print(f\"list upon adding items is {laundry}\")"
   ]
  },
  {
   "cell_type": "code",
   "execution_count": 163,
   "metadata": {},
   "outputs": [
    {
     "name": "stdout",
     "output_type": "stream",
     "text": [
      "Removed item is clothes\n",
      "The new list is ['shoes', 'soap']\n",
      "Removed item is shoes\n",
      "The new list is ['soap']\n",
      "Removed item is soap\n",
      "The new list is []\n",
      "list is empty\n",
      "The new list is []\n"
     ]
    }
   ],
   "source": [
    "# Remove and print all items using the remove_item function\n",
    "for i in range(len(laundry) + 1): #the for loop iterates over the initial length of the list plus one more \n",
    "    #which allows it to check if the list is empty after removing all items\n",
    "    item = remove_laundry(laundry)\n",
    "    if item is None:\n",
    "        print('list is empty')\n",
    "    else:\n",
    "        print(f\"Removed item is {item}\")\n",
    "    \n",
    "    print(f\"The new list is {laundry}\")\n"
   ]
  },
  {
   "cell_type": "markdown",
   "metadata": {},
   "source": [
    "- 3. Dictionary Operations"
   ]
  },
  {
   "cell_type": "code",
   "execution_count": 164,
   "metadata": {},
   "outputs": [],
   "source": [
    "#Create a dictionary to represent a library\n",
    "library = {\"Fiction\":[\"Book1\",\"Book2\"], \"NonFiction\":[\"Book3\",]}"
   ]
  },
  {
   "cell_type": "code",
   "execution_count": 165,
   "metadata": {},
   "outputs": [],
   "source": [
    "#Functions to Manage the library\n",
    "def add_book(library, genre, book_title):\n",
    "\n",
    "    if genre in library:\n",
    "        library[genre].append(book_title)\n",
    "    else:\n",
    "        library[genre] = [book_title]\n",
    "    print(f\"Added '{book_title}' to '{genre}' genre.\")#If the genre is not found in the library,\n",
    "        #it means that this is the first book in that genre. \n",
    "        # In this case, the function creates a new key-value pair in the library dictionary, \n",
    "        # where the key is the genre and the value is a list containing the new book.\n",
    "\n",
    "def remove_book(library, genre, book_title):\n",
    "    if genre in library and book_title in library[genre]:#if the genre and book are both in the library \n",
    "        library[genre].remove(book_title) #the book will be removed\n",
    "        print(f\"Removed '{book_title}' from '{genre}' genre.\")\n",
    "    else:\n",
    "        print(f\"'{book_title}' not found in '{genre}' genre.\")\n",
    "\n",
    "def print_books_in_genre(library, genre): #func to print books of a specified genre\n",
    "    if genre in library:\n",
    "        print(f\"Books in '{genre}' genre:\")\n",
    "        for book in library[genre]:\n",
    "            print(book)\n",
    "    else:\n",
    "        print(f\"No books found in '{genre}' genre.\")\n",
    "\n",
    "def print_all_books(library): #func to print all books in the library\n",
    "    print(\"All Books in the Library:\")\n",
    "    for genre, books in library.items():\n",
    "        print(f\"{genre}:\")\n",
    "        for book in books:\n",
    "            print(f\"- {book}\")"
   ]
  },
  {
   "cell_type": "code",
   "execution_count": 166,
   "metadata": {},
   "outputs": [
    {
     "name": "stdout",
     "output_type": "stream",
     "text": [
      "Added 'Book4' to 'Fiction' genre.\n",
      "Removed 'Book2' from 'Fiction' genre.\n",
      "Books in 'Fiction' genre:\n",
      "Book1\n",
      "Book4\n",
      "All Books in the Library:\n",
      "Fiction:\n",
      "- Book1\n",
      "- Book4\n",
      "NonFiction:\n",
      "- Book3\n"
     ]
    }
   ],
   "source": [
    "##testing the functions\n",
    "# Add a new book to the Fiction genre\n",
    "add_book(library, \"Fiction\", \"Book4\")\n",
    "\n",
    "# Remove a book from the Fiction genre\n",
    "remove_book(library, \"Fiction\", \"Book2\")\n",
    "\n",
    "# Print all books in the Fiction genre\n",
    "print_books_in_genre(library, \"Fiction\")\n",
    "\n",
    "# Print all genres and books in the library\n",
    "print_all_books(library)"
   ]
  },
  {
   "cell_type": "markdown",
   "metadata": {},
   "source": [
    "- 4. Nested Dictionary: Creating and Accessing Data"
   ]
  },
  {
   "cell_type": "code",
   "execution_count": 167,
   "metadata": {},
   "outputs": [
    {
     "name": "stdout",
     "output_type": "stream",
     "text": [
      "Top-level keys: ['Uganda']\n",
      "Second-level keys under 'Uganda': ['Central']\n",
      "Third-level keys under 'Central': ['Kampala']\n",
      "Neighborhoods in 'Kampala':\n",
      " - Mukono\n",
      " - Entebbe\n"
     ]
    }
   ],
   "source": [
    "# Create a nested dictionary\n",
    "locations = {\n",
    "    \"Uganda\": {\n",
    "        \"Central\": {\n",
    "            \"Kampala\": [\"Mukono\", \"Entebbe\"]\n",
    "        }\n",
    "    }\n",
    "}\n",
    "\n",
    "# Access and print elements of the nested dictionary\n",
    "def print_location_structure(locations):\n",
    "    \n",
    "    # Print top-level keys using .keys()\n",
    "    print(\"Top-level keys:\", list(locations.keys()))\n",
    "    \n",
    "    # Print second-level keys\n",
    "    country = locations[\"Uganda\"]\n",
    "    print(\"Second-level keys under 'Uganda':\", list(country.keys()))\n",
    "    \n",
    "    # Print third-level keys and their values\n",
    "    state = country[\"Central\"]\n",
    "    print(\"Third-level keys under 'Central':\", list(state.keys()))\n",
    "    \n",
    "    # Print neighborhoods in 'Kampala'\n",
    "    city = state[\"Kampala\"]\n",
    "    print(\"Neighborhoods in 'Kampala':\")\n",
    "    for neighborhood in city:\n",
    "        print(f\" - {neighborhood}\")\n",
    "\n",
    "# Call the function to print the location structure\n",
    "print_location_structure(locations)"
   ]
  }
 ],
 "metadata": {
  "kernelspec": {
   "display_name": "Python 3",
   "language": "python",
   "name": "python3"
  },
  "language_info": {
   "codemirror_mode": {
    "name": "ipython",
    "version": 3
   },
   "file_extension": ".py",
   "mimetype": "text/x-python",
   "name": "python",
   "nbconvert_exporter": "python",
   "pygments_lexer": "ipython3",
   "version": "3.12.6"
  }
 },
 "nbformat": 4,
 "nbformat_minor": 2
}
