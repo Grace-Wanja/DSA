{
 "cells": [
  {
   "cell_type": "markdown",
   "metadata": {},
   "source": [
    "## GRACE WANJA B30299 "
   ]
  },
  {
   "cell_type": "markdown",
   "metadata": {},
   "source": [
    "# *SEARCHING AND SORTING ALGORITHMS*"
   ]
  },
  {
   "cell_type": "markdown",
   "metadata": {},
   "source": [
    "## SEARCHING ALGORITHMS\n",
    "- These are used to locate specific elements within a collection of data\n",
    "- These algorithms are designed to efficiently navigate through data structures to find the desired information, making them fundamental in various applications such as databases, web search engines, and more."
   ]
  },
  {
   "cell_type": "markdown",
   "metadata": {},
   "source": [
    "### 1. LINEAR SEARCH\n",
    "- Linear search is also known as sequential search.\n",
    "- this search algorithm traverses a list or array sequentially to find the target element.\n",
    "- Linear search algorithm iterates through each element in the list or array, comparing it with the target element until a match is found or the end of the list is reached. If the end of the list is reached, then it means that the target element is not present in the array.\n",
    "\n",
    "- HOW IT WORKS:\n",
    "  - In Linear Search, we iterate over all the elements of the array and check if the current element is equal to the target element. If we find any element to be equal to the target element, then return the index of the current element. Otherwise, if no element is equal to the target element, then return -1 as the element is not found.\n",
    "For example: Consider the array , \n",
    "\n",
    "Input: arr[] = [1, 2, 3, 4], x = 3\n",
    "Output: 2\n",
    "Explanation: There is one test case with array as [1, 2, 3 4] and element to be searched as 3. Since 3 is present at index 2, the output is 2.\n",
    "\n",
    "Input: arr[] = [10, 8, 30], x = 6\n",
    "Output: -1\n",
    "Explanation: The element to be searched is 6 and its not present, so we return -1.\n",
    "\n",
    "- Applications of Linear search\n",
    "  - Unsorted Lists: When we have an unsorted array or list, linear search is most commonly used to find any element in the collection.\n",
    "  - Small Data Sets: Linear Search is preferred over binary search when we have small data sets with\n",
    "  - Searching Linked Lists: In linked list implementations, linear search is commonly used to find elements within the list. Each node is checked sequentially until the desired element is found.\n",
    "  - Simple Implementation: Linear Search is much easier to understand and implement as compared to Binary Search or Ternary Search."
   ]
  },
  {
   "cell_type": "markdown",
   "metadata": {},
   "source": [
    "- PSEUDOCODE FOR LINEAR SEARCH\n",
    "below are various examples of pseudocodes I came across during my researcg, I seek to know the correct one\n",
    "1. \n",
    "- linearSearch(array, key)\n",
    "  - for each item in the array\n",
    "    - if item == value\n",
    "      - return its index\n",
    "\n",
    "2. \n",
    "-  i). Start from the first element of the list.\n",
    "-  ii). Compare the target element with the current element.\n",
    "-  viii). If they match, return the index.\n",
    "-  iv). If they do not match, move to the next element.\n",
    "-  v). Repeat steps 2-4 until the end of the list.\n",
    "-  vi). If the target is not found, return -1.\n",
    "\n",
    "3. \n",
    "- BEGIN\n",
    "    - DEFINE FUNCTION search(arr, N, x)\n",
    "        - FOR i FROM 0 TO N-1 DO\n",
    "            - IF arr[i] == x THEN\n",
    "                - RETURN i\n",
    "        - END FOR\n",
    "        - RETURN -1\n",
    "    - END FUNCTION\n",
    "\n",
    "    //Driver Code\n",
    "    INITIALIZE arr = [2, 3, 4, 10, 40]\n",
    "    INITIALIZE x = 10\n",
    "    INITIALIZE N = length of arr\n",
    "\n",
    "    - CALL result = search(arr, N, x)\n",
    "\n",
    "    - IF result == -1 THEN\n",
    "        - PRINT \"Element is not present in array\"\n",
    "    - ELSE\n",
    "        - PRINT \"Element is present at index\", result\n",
    "    - END IF\n",
    "- END\n",
    "\n"
   ]
  },
  {
   "cell_type": "markdown",
   "metadata": {},
   "source": [
    "The flowchart has been attached in the folder"
   ]
  },
  {
   "cell_type": "code",
   "execution_count": null,
   "metadata": {},
   "outputs": [
    {
     "name": "stdout",
     "output_type": "stream",
     "text": [
      "Element is present at index 3\n"
     ]
    }
   ],
   "source": [
    "#Python Implementation\n",
    "def search(arr, n, x):\n",
    "    for i in range(0,n):\n",
    "        if arr[i] == x:\n",
    "            return i\n",
    "    return -1\n",
    "    \n",
    "# Driver code\n",
    "arr=[2,3,4,10,40]\n",
    "x = 10\n",
    "n = len(arr)\n",
    "\n",
    "#function call\n",
    "result = search(arr, n, x)\n",
    "if result == -1:\n",
    "    print(\"Element is not present in array\")\n",
    "else:\n",
    "    print(\"Element is present at index\",result)"
   ]
  },
  {
   "cell_type": "markdown",
   "metadata": {},
   "source": [
    "### Time & Space Complexity Analysis:\n",
    "\n",
    "- The time complexity of the Linear Search algorithm is O(n), where n is the number of elements in the array. \n",
    "- The space complexity is O(1) as it requires a constant amount of extra space regardless of the input size (auxiliary space complexity).\n",
    "\n",
    "  - Best Case Time Complexity of Linear Search Algorithm: O(1)\n",
    "Best case is when the list or array's first element matches the target element. The time complexity is O(1) because there is just one comparison made. So the best case complexity is O(1).\n",
    "\n",
    "  - Average Case Time Complexity of Linear Search Algorithm: O(n)\n",
    "The average case time complexity of the linear search algorithm is O(n), where n is the number of elements in the array being searched.\n",
    "\n",
    "  - Worst Case Time Complexity of Linear Search Algorithm: O(n)\n",
    "The worst-case will be when the target element is absent from the list or array or is located at the end of the list. O(n) time complexity results from the necessity to traverse the complete list and the n comparisons that are required."
   ]
  },
  {
   "cell_type": "markdown",
   "metadata": {},
   "source": [
    "### Advantages and Disadvantages: \n",
    "\n",
    "MERITS\n",
    "  - Linear search can be used irrespective of whether the array is sorted or not. It can be used on arrays of any data type.\n",
    "  - Does not require any additional memory.\n",
    "  - It is a well-suited algorithm for small datasets.\n",
    "\n",
    "DEMERITS\n",
    "   - Linear search has a time complexity of O(N), which in turn makes it slow for large datasets.\n",
    "   - Not suitable for large arrays."
   ]
  },
  {
   "cell_type": "markdown",
   "metadata": {},
   "source": [
    "### When to Use It: \n",
    "\n",
    "- - When we are dealing with a small dataset.\n",
    "- - When you are searching for a dataset stored in contiguous memory (this means that the data is stored in a single block of memory, where each element is stored immediately after the previous one.)"
   ]
  },
  {
   "cell_type": "markdown",
   "metadata": {},
   "source": [
    "### When Not to Use It: \n",
    "\n",
    "For large datasets where efficiency is critical."
   ]
  },
  {
   "cell_type": "markdown",
   "metadata": {},
   "source": [
    "### 2. BINARY SEARCH\n",
    "- Binary search is a search algorithm used to find the position of a target value within a sorted array. \n",
    "- It works by repeatedly dividing the search interval into half until the target value is found or the interval is empty.  \n",
    "- The search interval is halved by comparing the target element with the middle value of the search space.\n",
    "\n",
    "- HOW IT WORKS\n",
    "  - Binary Search compares the target value to the middle element of the array. If they are equal, the search is successful. If the target is less than the middle element, the search continues in the lower half of the array. If the target is greater, the search continues in the upper half. This process repeats until the target is found or the search interval is empty.\n",
    "\n",
    "Below is the step-by-step algorithm for Binary Search:\n",
    "\n",
    "  - Divide the search space into two halves by finding the middle index “mid”. \n",
    "  - Compare the middle element of the search space with the key. \n",
    "  - If the key is found at middle element, the process is terminated.\n",
    "  - If the key is not found at middle element, choose which half will be used as the next search space.\n",
    "  - If the key is smaller than the middle element, then the left side is used for next search.\n",
    "  - If the key is larger than the middle element, then the right side is used for next search.\n",
    "  - This process is continued until the key is found or the total search space is exhausted.\n",
    "\n",
    "- Applications of Binary Search\n",
    "  - Binary search can be used as a building block for more complex algorithms used in machine learning, such as algorithms for training neural networks or finding the optimal hyperparameters for a model.\n",
    "  - It can be used for searching in computer graphics such as algorithms for ray tracing or texture mapping.\n",
    "  - It can be used for searching a database."
   ]
  },
  {
   "cell_type": "markdown",
   "metadata": {},
   "source": [
    "### PSEUDOCODE\n",
    "### How to Implement Binary Search Algorithm?\n",
    "- The Binary Search Algorithm can be implemented in the following two ways\n",
    "\n",
    "  - Iterative Binary Search Algorithm\n",
    "  - Recursive Binary Search Algorithm\n",
    "  - Given below are the pseudocodes for the approaches."
   ]
  },
  {
   "cell_type": "markdown",
   "metadata": {},
   "source": [
    "### Pseudocode for Iterative Binary Search\n",
    "- PROCEDURE BinarySearch(arr, low, high, x)\n",
    "    - WHILE low <= high\n",
    "        - mid = (low + high) / 2\n",
    "\n",
    "        - IF arr[mid] == x THEN\n",
    "            - RETURN mid\n",
    "\n",
    "        - ELSE IF arr[mid] < x THEN\n",
    "            - low = mid + 1\n",
    "\n",
    "        - ELSE\n",
    "            - high = mid - 1\n",
    "\n",
    "    - RETURN -1  // Element not found\n",
    "\n",
    "- END PROCEDURE"
   ]
  },
  {
   "cell_type": "code",
   "execution_count": null,
   "metadata": {},
   "outputs": [
    {
     "name": "stdout",
     "output_type": "stream",
     "text": [
      "Element is present at index 3\n"
     ]
    }
   ],
   "source": [
    "#PYTHON IMPLEMENTATION\n",
    "# Python3 code to implement iterative Binary\n",
    "# Search.\n",
    "\n",
    "\n",
    "# It returns location of x in given array arr\n",
    "def binarySearch(arr, low, high, x):\n",
    "\n",
    "    while low <= high:\n",
    "\n",
    "        mid = low + (high - low) // 2\n",
    "\n",
    "        # Check if x is present at mid\n",
    "        if arr[mid] == x:\n",
    "            return mid\n",
    "\n",
    "        # If x is greater, ignore left half\n",
    "        elif arr[mid] < x:\n",
    "            low = mid + 1\n",
    "\n",
    "        # If x is smaller, ignore right half\n",
    "        else:\n",
    "            high = mid - 1\n",
    "\n",
    "    # If we reach here, then the element\n",
    "    # was not present\n",
    "    return -1\n",
    "\n",
    "\n",
    "# Driver Code\n",
    "\n",
    "arr = [2, 3, 4, 10, 40]\n",
    "x = 10 \n",
    "\n",
    "    # Function call\n",
    "result = binarySearch(arr, 0, len(arr)-1, x)\n",
    "if result != -1:\n",
    "    print(\"Element is present at index\", result)\n",
    "else:\n",
    "    print(\"Element is not present in array\")\n"
   ]
  },
  {
   "cell_type": "markdown",
   "metadata": {},
   "source": [
    "### Pseudocode for Recursive Binary Search\n",
    "- PROCEDURE BinarySearch(arr, low, high, x)\n",
    "    - IF high >= low THEN\n",
    "        - mid = (low + high) / 2\n",
    "\n",
    "        - IF arr[mid] == x THEN\n",
    "            - RETURN mid\n",
    "\n",
    "        - ELSE IF arr[mid] > x THEN\n",
    "            - RETURN BinarySearch(arr, low, mid-1, x)\n",
    "\n",
    "        - ELSE\n",
    "            - RETURN BinarySearch(arr, mid+1, high, x)\n",
    "\n",
    "    - ELSE\n",
    "        - RETURN -1  // Element not found\n",
    "\n",
    "- END PROCEDURE"
   ]
  },
  {
   "cell_type": "code",
   "execution_count": null,
   "metadata": {},
   "outputs": [
    {
     "name": "stdout",
     "output_type": "stream",
     "text": [
      "Element is present at index 3\n"
     ]
    }
   ],
   "source": [
    "#PYTHON IMPLEMENTATION\n",
    "# Python3 Program for recursive binary search.\n",
    "\n",
    "\n",
    "# Returns index of x in arr if present, else -1\n",
    "def binarySearch(arr, low, high, x):\n",
    "\n",
    "    # Check base case\n",
    "    if high >= low:\n",
    "\n",
    "        mid = low + (high - low) // 2\n",
    "\n",
    "        # If element is present at the middle itself\n",
    "        if arr[mid] == x:\n",
    "            return mid\n",
    "\n",
    "        # If element is smaller than mid, then it\n",
    "        # can only be present in left subarray\n",
    "        elif arr[mid] > x:\n",
    "            return binarySearch(arr, low, mid-1, x)\n",
    "\n",
    "        # Else the element can only be present\n",
    "        # in right subarray\n",
    "        else:\n",
    "            return binarySearch(arr, mid + 1, high, x)\n",
    "\n",
    "    # Element is not present in the array\n",
    "    else:\n",
    "        return -1\n",
    "\n",
    "\n",
    "# Driver Code\n",
    "\n",
    "arr = [2, 3, 4, 10, 40]\n",
    "x = 10\n",
    "    \n",
    "# Function call\n",
    "result = binarySearch(arr, 0, len(arr)-1, x)\n",
    "    \n",
    "if result != -1:\n",
    "    print(\"Element is present at index\", result)\n",
    "else:\n",
    "    print(\"Element is not present in array\")\n"
   ]
  },
  {
   "cell_type": "markdown",
   "metadata": {},
   "source": [
    "### Time & Space Complexity Analysis:\n",
    "- Time complexity of Binary Search is O(log n), where n is the number of elements in the array. It divides the array in half at each step. \n",
    "- Space complexity is O(1) as it uses a constant amount of extra space (auxiliary space complexity  it requires a constant amount of extra space regardless of the size of the input array. This is because Binary Search is an iterative algorithm that does not require any additional data structures or recursion that grows with the input size. Although, we can also implement Binary Search recursively).\n",
    "\n",
    "  - Best Case Time Complexity of Binary Search Algorithm: O(1):\n",
    "  Best case is when the element is at the middle index of the array. It takes only one comparison to find the target element. So the best case complexity is O(1).\n",
    "  - Average Case Time Complexity of Binary Search Algorithm: O(log N)\n",
    "  Consider array arr[] of length N and element X to be found. There can be two cases:\n",
    "    - Case1: Element is present in the array\n",
    "    - Case2: Element is not present in the array.\n",
    "\n",
    "  - Worst Case Time Complexity of Binary Search Algorithm: O(log N)\n",
    "  The worst case will be when the element is present in the first position. As seen in the average case, the comparison required to reach the first element is logN. So the time complexity for the worst case is O(logN).\n"
   ]
  },
  {
   "cell_type": "markdown",
   "metadata": {},
   "source": [
    "### Advantages and Disadvantages: \n",
    "\n",
    "MERITS\n",
    "  - Binary search is faster than linear search, especially for large arrays.\n",
    "  - More efficient than other searching algorithms with a similar time complexity, such as interpolation search or exponential search.\n",
    "  - Binary search is well-suited for searching large datasets that are stored in external memory, such as on a hard drive or in the cloud..\n",
    "\n",
    "DEMERITS\n",
    "   - The array should be sorted.\n",
    "   - Binary search requires that the data structure being searched be stored in contiguous memory locations. \n",
    "   - Binary search requires that the elements of the array be comparable, meaning that they must be able to be ordered."
   ]
  },
  {
   "cell_type": "markdown",
   "metadata": {},
   "source": [
    "### When to Use It: \n",
    "- - Binary search should be used when searching for a target value in a sorted array, \n",
    "- - especially when the size of the array is large. \n",
    "- - It is particularly efficient for large datasets compared to linear search algorithms"
   ]
  },
  {
   "cell_type": "markdown",
   "metadata": {},
   "source": [
    "### When not to Use It:\n",
    "- - When the list is unsorted or frequently updated."
   ]
  },
  {
   "cell_type": "markdown",
   "metadata": {},
   "source": [
    "## SORTING ALGORITHMS\n",
    "\n",
    "- A Sorting Algorithm is used to rearrange a given array or list of elements in an order. \n",
    "- Sorting is provided in library implementation of most of the programming languages."
   ]
  },
  {
   "cell_type": "markdown",
   "metadata": {},
   "source": [
    "1. BUBBLE SORT\n",
    "- Bubble Sort is the simplest sorting algorithm that works by repeatedly swapping the adjacent elements if they are in the wrong order.\n",
    "- This algorithm is not suitable for large data sets as its average and worst-case time complexity are quite high.\n",
    "\n",
    "HOW IT WORKS;\n",
    "- We sort the array using multiple passes. After the first pass, the maximum element goes to end (its correct position). \n",
    "- Same way, after second pass, the second largest element goes to second last position and so on.\n",
    "- In every pass, we process only those elements that have already not moved to correct position. \n",
    "- After k passes, the largest k elements must have been moved to the last k positions.\n",
    "- In a pass, we consider remaining elements and compare all adjacent and swap if larger element is before a smaller element. \n",
    "- If we keep doing this, we get the largest (among the remaining elements) at its correct position.\n",
    "\n"
   ]
  },
  {
   "cell_type": "markdown",
   "metadata": {},
   "source": [
    "### PSEUDOCODE\n",
    "//Traverse through all array elements\n",
    "- for i in range(n):\n",
    "    - swapped = False\n",
    "\n",
    "    //Last i elements are already in place\n",
    "    - for j in range(0, n-i-1):\n",
    "\n",
    "        //Traverse the array from 0 to n-i-1\n",
    "        //Swap if the element found is greater\n",
    "        //than the next element\n",
    "        - if arr[j] > arr[j+1]:\n",
    "            - arr[j], arr[j+1] = arr[j+1], arr[j]\n",
    "            - swapped = True\n",
    "    - if (swapped == False):\n",
    "        - break"
   ]
  },
  {
   "cell_type": "code",
   "execution_count": null,
   "metadata": {},
   "outputs": [
    {
     "name": "stdout",
     "output_type": "stream",
     "text": [
      "Sorted array:\n",
      "11 12 22 25 34 64 90 "
     ]
    }
   ],
   "source": [
    "#PYTHON IMPLEMENTATION\n",
    "# Optimized Python program for implementation of Bubble Sort\n",
    "def bubbleSort(arr):\n",
    "    n = len(arr)\n",
    "    \n",
    "    # Traverse through all array elements\n",
    "    for i in range(n):\n",
    "        swapped = False\n",
    "\n",
    "        # Last i elements are already in place\n",
    "        for j in range(0, n-i-1):\n",
    "\n",
    "            # Traverse the array from 0 to n-i-1\n",
    "            # Swap if the element found is greater\n",
    "            # than the next element\n",
    "            if arr[j] > arr[j+1]:\n",
    "                arr[j], arr[j+1] = arr[j+1], arr[j]\n",
    "                swapped = True\n",
    "        if (swapped == False):\n",
    "            break\n",
    " \n",
    "# Driver code to test above\n",
    "\n",
    "arr = [64, 34, 25, 12, 22, 11, 90]\n",
    "\n",
    "bubbleSort(arr)\n",
    "\n",
    "print(\"Sorted array:\")\n",
    "for i in range(len(arr)):\n",
    "    print(\"%d\" % arr[i], end=\" \")\n"
   ]
  },
  {
   "cell_type": "markdown",
   "metadata": {},
   "source": [
    "### Time & Space Complexity Analysis:\n",
    "- The time complexity of Bubble Sort is O(n^2) in the worst-case scenario.\n",
    "- The space complexity of Bubble sort is O(1). Bubble Sort only needs a constant amount of additional space during the sorting process.\n",
    "\n",
    "  - Best Case Time Complexity Analysis of Bubble Sort: O(N)\n",
    "The best case occurs when the array is already sorted. So the number of comparisons required is N-1 and the number of swaps required = 0. Hence the best case complexity is O(N).\n",
    "\n",
    "  - Worst Case Time Complexity Analysis of Bubble Sort: O(N2)\n",
    "The worst-case condition for bubble sort occurs when elements of the array are arranged in decreasing order.\n",
    "In the worst case, the total number of iterations or passes required to sort a given array is (N-1). where ‘N’ is the number of elements present in the array.\n",
    "\n",
    " - Average Case Time Complexity Analysis of Bubble Sort: O(N2)\n",
    "The number of comparisons is constant in Bubble Sort. So in average case, there are O(N2) comparisons. This is because irrespective of the arrangement of elements, the number of comparisons C(N) is same"
   ]
  },
  {
   "cell_type": "markdown",
   "metadata": {},
   "source": [
    "### Advantages and Disadvantages:\n",
    "\n",
    "STRENGTHS\n",
    "- - Bubble sort is easy to understand and implement.\n",
    "- - It does not require any additional memory space.\n",
    "- - It is a stable sorting algorithm, meaning that elements with the same key value maintain their relative order in the sorted output.\n",
    "\n",
    "WEAKNESSES\n",
    "- - Bubble sort has a time complexity of O(n2) which makes it very slow for large data sets.\n",
    "- - Bubble sort has almost no or limited real world applications. It is mostly used in academics to teach different ways of sorting.\n"
   ]
  },
  {
   "cell_type": "markdown",
   "metadata": {},
   "source": [
    "### When to Use It: \n",
    "For small datasets or educational purposes.\n",
    "\n",
    "### When Not to Use It: \n",
    "For large datasets where efficiency is critical."
   ]
  },
  {
   "cell_type": "markdown",
   "metadata": {},
   "source": [
    "2. INSERTION SORT\n",
    "- Insertion sort is a simple sorting algorithm that works by iteratively inserting each element of an unsorted list into its correct position in a sorted portion of the list. \n",
    "- It is like sorting playing cards in your hands. \n",
    "- You split the cards into two groups: the sorted cards and the unsorted cards. Then, you pick a card from the unsorted group and put it in the right place in the sorted group.\n",
    "\n",
    "HOW IT WORKS\n",
    "- We start with second element of the array as first element in the array is assumed to be sorted.\n",
    "- Compare second element with the first element and check if the second element is smaller then swap them.\n",
    "- Move to the third element and compare it with the first two elements and put at its correct position\n",
    "- Repeat until the entire array is sorted.\n",
    "\n",
    "Application of Insertion sort, its used where;\n",
    "- The list is small or nearly sorted.\n",
    "- Simplicity and stability are important.\n",
    "- Used as a subroutine in Bucket Sort\n",
    "- Can be useful when array is already almost sorted (very few inversions)\n",
    "- Since Insertion sort is suitable for small sized arrays, it is used in Hybrid Sorting algorithms along with other efficient algorithms like Quick Sort and Merge Sort. When the subarray size becomes small, we switch to insertion sort in these recursive algorithms. For example IntroSort and TimSort use insertions sort."
   ]
  },
  {
   "cell_type": "markdown",
   "metadata": {},
   "source": [
    "### PSEUDOCODE\n",
    "- PROCEDURE InsertionSort(arr)\n",
    "    - FOR i FROM 1 TO LENGTH(arr) - 1\n",
    "        - key = arr[i]\n",
    "        - j = i - 1\n",
    "\n",
    "        - WHILE j >= 0 AND key < arr[j]\n",
    "            - arr[j + 1] = arr[j]\n",
    "            - j = j - 1\n",
    "        - END WHILE\n",
    "\n",
    "        - arr[j + 1] = key\n",
    "   -  END FOR\n",
    "- END PROCEDURE\n",
    "\n",
    "- PROCEDURE PrintArray(arr)\n",
    "    - FOR i FROM 0 TO LENGTH(arr) - 1\n",
    "        - PRINT arr[i]\n",
    "    - END FOR\n",
    "- END PROCEDURE\n",
    "\n",
    "//Driver Code\n",
    "- arr = [12, 11, 13, 5, 6]\n",
    "- InsertionSort(arr)\n",
    "- PrintArray(arr)"
   ]
  },
  {
   "cell_type": "code",
   "execution_count": 10,
   "metadata": {},
   "outputs": [
    {
     "name": "stdout",
     "output_type": "stream",
     "text": [
      "5 6 11 12 13 \n"
     ]
    }
   ],
   "source": [
    "##PYTHON IMPLEMENTATION\n",
    "# Python program for implementation of Insertion Sort\n",
    "\n",
    "# Function to sort array using insertion sort\n",
    "def insertionSort(arr):\n",
    "    for i in range(1, len(arr)):\n",
    "        key = arr[i]\n",
    "        j = i - 1\n",
    "\n",
    "        # Move elements of arr[0..i-1], that are\n",
    "        # greater than key, to one position ahead\n",
    "        # of their current position\n",
    "        while j >= 0 and key < arr[j]:\n",
    "            arr[j + 1] = arr[j]\n",
    "            j -= 1\n",
    "        arr[j + 1] = key\n",
    "\n",
    "# A utility function to print array of size n\n",
    "def printArray(arr):\n",
    "    for i in range(len(arr)):\n",
    "        print(arr[i], end=\" \")\n",
    "    print()\n",
    "\n",
    "# Driver method\n",
    "arr = [12, 11, 13, 5, 6]\n",
    "insertionSort(arr)\n",
    "printArray(arr)\n"
   ]
  },
  {
   "cell_type": "markdown",
   "metadata": {},
   "source": [
    "### Time & Space Complexity Analysis:\n",
    "- The auxiliary space complexity of Insertion Sort is O(1), indicating it uses constant extra space regardless of the input size.\n",
    "\n",
    "//TAKE NOTE OF INPLACE SORTING\n",
    "\n",
    "- This is because the algorithm typically performs in-place sorting, meaning it rearranges the elements within the input array itself without requiring additional data structures or memory allocation proportional to the input size. \n",
    "- Therefore, regardless of the size of the input array, the amount of extra space used by the Insertion Sort algorithm remains constant.\n",
    "\n",
    "- - Best Case: O(N)\n",
    "The best-case time complexity of Insertion Sort occurs when the input array is already sorted.\n",
    "In this scenario, each element is compared with its preceding elements until no swaps are needed, resulting in a linear time complexity.\n",
    "Therefore, the best-case time complexity is O(N), where n is the number of elements in the array.\n",
    "- - Average Case: O(N2)\n",
    "The average-case time complexity of Insertion Sort is also O(N2).\n",
    "This complexity arises from the nature of the algorithm, which involves pairwise comparisons and swaps to sort the elements.\n",
    "Although the exact number of comparisons and swaps may vary depending on the input, the average-case time complexity remains quadratic.\n",
    "- - Worst Case: O(N2)\n",
    "The worst-case time complexity of Insertion Sort occurs when the input array is in reverse sorted order.\n",
    "In this scenario, each element needs to be compared and possibly swapped with every preceding element, resulting in a quadratic time complexity.\n",
    "Therefore, the worst-case time complexity is O(N2), where n is the number of elements in the array."
   ]
  },
  {
   "cell_type": "markdown",
   "metadata": {},
   "source": [
    "### Advantages and Disadvantages:\n",
    "\n",
    "STRENGTHS\n",
    "- - Simple and easy to implement.\n",
    "- - Stable sorting algorithm.\n",
    "- - Efficient for small lists and nearly sorted lists.\n",
    "- - Space-efficient as it is an in-place algorithm.\n",
    "- - Adoptive. the number of inversions is directly proportional to number of swaps. For example, no swapping happens for a sorted array and it takes O(n) time only.\n",
    "\n",
    "WEAKNESSES\n",
    "- - Inefficient for large lists.\n",
    "- - Not as efficient as other sorting algorithms (e.g., merge sort, quick sort) for most cases.\n"
   ]
  },
  {
   "cell_type": "markdown",
   "metadata": {},
   "source": [
    "### When to Use It: \n",
    "- Insertion sort is used when number of elements is small. \n",
    "- It can also be useful when the input array is almost sorted, and only a few elements are misplaced in a complete big array. \n",
    "\n",
    "### When Not to Use It: \n",
    "- For large datasets where efficiency is critical"
   ]
  },
  {
   "cell_type": "markdown",
   "metadata": {},
   "source": [
    "3. SELECTION SORT\n",
    "\n",
    "- Selection Sort is a comparison-based sorting algorithm. \n",
    "- It sorts an array by repeatedly selecting the smallest (or largest) element from the unsorted portion and swapping it with the first unsorted element. This process continues until the entire array is sorted.\n",
    "\n",
    "HOW IT WORKS;\n",
    "- First we find the smallest element and swap it with the first element. \n",
    "- This way we get the smallest element at its correct position.\n",
    "- Then we find the smallest among remaining elements (or second smallest) and swap it with the second element.\n",
    "We keep doing this until we get all elements moved to correct position.\n",
    "\n",
    "Applications of Quick sort\n",
    "- Perfect for teaching fundamental sorting mechanisms and algorithm design.\n",
    "- Suitable for small lists where the overhead of more complex algorithms isn’t justified and memory writing is costly as \n",
    "- it requires less memory writes compared to other standard sorting algorithms.\n",
    "- Heap Sort algorithm is based on Selection Sort.\n",
    "\n"
   ]
  },
  {
   "cell_type": "markdown",
   "metadata": {},
   "source": [
    "### PSEUDOCODE\n",
    "  //Assume the current position holds\n",
    "  //the minimum element\n",
    "  - min_idx = i\n",
    "    \n",
    "    //Iterate through the unsorted portion\n",
    "    //to find the actual minimum\n",
    "    - for j in range(i + 1, n):\n",
    "        - if arr[j] < arr[min_idx]:\n",
    "          \n",
    "            //Update min_idx if a smaller element is found\n",
    "            - min_idx = j\n",
    "    \n",
    "    //Move minimum element to its\n",
    "    //correct position\n",
    "    - arr[i], arr[min_idx] = arr[min_idx], arr[i]"
   ]
  },
  {
   "cell_type": "code",
   "execution_count": 11,
   "metadata": {},
   "outputs": [
    {
     "name": "stdout",
     "output_type": "stream",
     "text": [
      "Original array: 64 25 12 22 11 \n",
      "Sorted array: 11 12 22 25 64 \n"
     ]
    }
   ],
   "source": [
    "#PYTHON IMPLEMENTATION\n",
    "# Python program for implementation of Selection\n",
    "# Sort\n",
    "\n",
    "def selection_sort(arr):\n",
    "    n = len(arr)\n",
    "    for i in range(n - 1):\n",
    "      \n",
    "        # Assume the current position holds\n",
    "        # the minimum element\n",
    "        min_idx = i\n",
    "        \n",
    "        # Iterate through the unsorted portion\n",
    "        # to find the actual minimum\n",
    "        for j in range(i + 1, n):\n",
    "            if arr[j] < arr[min_idx]:\n",
    "              \n",
    "                # Update min_idx if a smaller element is found\n",
    "                min_idx = j\n",
    "        \n",
    "        # Move minimum element to its\n",
    "        # correct position\n",
    "        arr[i], arr[min_idx] = arr[min_idx], arr[i]\n",
    "\n",
    "def print_array(arr):\n",
    "    for val in arr:\n",
    "        print(val, end=\" \")\n",
    "    print()\n",
    "\n",
    "arr = [64, 25, 12, 22, 11]\n",
    "    \n",
    "print(\"Original array: \", end=\"\")\n",
    "print_array(arr)\n",
    "    \n",
    "selection_sort(arr)\n",
    "    \n",
    "print(\"Sorted array: \", end=\"\")\n",
    "print_array(arr)\n"
   ]
  },
  {
   "cell_type": "markdown",
   "metadata": {},
   "source": [
    "### Time Complexity Analysis:\n",
    "- Time Complexity: O(n2) ,as there are two nested loops:\n",
    "  - One loop to select an element of Array one by one = O(n)\n",
    "  - Another loop to compare that element with every other Array element = O(n)\n",
    "  - Therefore overall complexity = O(n) * O(n) = O(n*n) = O(n2)\n",
    "- Auxiliary Space: O(1) as the only extra memory used is for temporary variables.\n",
    "\n",
    "- Selection Sort has a time complexity of O(n^2) in the best, average, and worst cases.\n",
    "\n",
    "Best-case: O(n^2)\n",
    "\n",
    "Worst-case: O(n^2)\n",
    "\n",
    "Average-case: O(n^2)"
   ]
  },
  {
   "cell_type": "markdown",
   "metadata": {},
   "source": [
    "### Advantages and Disadvantages:\n",
    "\n",
    "STRENGTHS\n",
    "- - Easy to understand and implement, making it ideal for teaching basic sorting concepts.\n",
    "- - Requires only a constant O(1) extra memory space.\n",
    "- - It requires less number of swaps (or memory writes) compared to many other standard algorithms. Only cycle sort beats it in terms of memory writes. Therefore it can be simple algorithm choice when memory writes are costly.\n",
    "\n",
    "WEAKNESSES\n",
    "- - Selection sort has a time complexity of O(n^2) makes it slower compared to algorithms like Quick Sort or Merge Sort.\n",
    "- - Does not maintain the relative order of equal elements which means it is not stable."
   ]
  },
  {
   "cell_type": "markdown",
   "metadata": {},
   "source": [
    "### When to Use It: \n",
    "- Selection Sort is best used for small datasets, \n",
    "- educational purposes, or \n",
    "- when memory usage needs to be minimal. \n",
    "\n",
    "### When Not to Use It: \n",
    "- For large datasets where efficiency is critical."
   ]
  },
  {
   "cell_type": "markdown",
   "metadata": {},
   "source": [
    "4.  QUICK SORT\n",
    "\n",
    "- QuickSort is a sorting algorithm based on the Divide and Conquer that picks an element as a pivot \n",
    "- and partitions the given array around the picked pivot by placing the pivot in its correct position in the sorted array.\n",
    "\n",
    "HOW IT WORKS \n",
    "- QuickSort works on the principle of divide and conquer, breaking down the problem into smaller sub-problems.\n",
    "\n",
    "There are mainly three steps in the algorithm:\n",
    "- Choose a Pivot: Select an element from the array as the pivot. The choice of pivot can vary (e.g., first element, last element, random element, or median).\n",
    "- Partition the Array: Rearrange the array around the pivot. After partitioning, all elements smaller than the pivot will be on its left, and all elements greater than the pivot will be on its right. The pivot is then in its correct position, and we obtain the index of the pivot.\n",
    "- Recursively Call: Recursively apply the same process to the two partitioned sub-arrays (left and right of the pivot).\n",
    "  - Base Case: The recursion stops when there is only one element left in the sub-array, as a single element is already sorted.\n",
    "\n",
    "Applications of Quick Sort\n",
    "\n",
    "- Efficient for sorting large datasets with O(n log n) average-case time complexity.\n",
    "- Used in partitioning problems like finding the kth smallest element or dividing arrays by pivot.\n",
    "- Integral to randomized algorithms, offering better performance than deterministic approaches.\n",
    "- Applied in cryptography for generating random permutations and unpredictable encryption keys.\n",
    "- Partitioning step can be parallelized for improved performance in multi-core or distributed systems.\n",
    "- Important in theoretical computer science for analyzing average-case complexity and developing new techniques.\n"
   ]
  },
  {
   "cell_type": "markdown",
   "metadata": {},
   "source": [
    "### PSEUDOCODE \n",
    "### QuickSort Algorithm\n",
    "\n",
    "//Function to swap two elements\n",
    "- FUNCTION swap(arr, i, j)\n",
    "    //Swap elements at indices i and j\n",
    "    - temp = arr[i]\n",
    "    - arr[i] = arr[j]\n",
    "    - arr[j] = temp\n",
    "- END FUNCTION\n",
    "\n",
    "//Function to partition the array\n",
    "- FUNCTION partition(arr, low, high)\n",
    "    //Choose the pivot element\n",
    "    - pivot = arr[high]\n",
    "    \n",
    "    //Initialize index of smaller element\n",
    "    - i = low - 1\n",
    "    \n",
    "    //Traverse array from low to high\n",
    "    - FOR j FROM low TO high - 1\n",
    "        - IF arr[j] < pivot THEN\n",
    "            //Increment index of smaller element\n",
    "            - i = i + 1\n",
    "            //Swap elements at indices i and j\n",
    "            - swap(arr, i, j)\n",
    "    \n",
    "    //Move pivot element to its correct position\n",
    "    - swap(arr, i + 1, high)\n",
    "    - RETURN i + 1\n",
    "- END FUNCTION\n",
    "\n",
    "- Function to implement QuickSort\n",
    "- FUNCTION quickSort(arr, low, high)\n",
    "    - IF low < high THEN\n",
    "        //Partition array and get pivot index\n",
    "        - pi = partition(arr, low, high)\n",
    "        \n",
    "        //Recursively sort smaller elements\n",
    "        - quickSort(arr, low, pi - 1)\n",
    "        \n",
    "        //Recursively sort greater or equal elements\n",
    "        - quickSort(arr, pi + 1, high)\n",
    "- END FUNCTION\n",
    "\n",
    "//Main driver code\n",
    "//Initialize array\n",
    "- arr = [10, 7, 8, 9, 1, 5]\n",
    "- n = LENGTH(arr)\n",
    "\n",
    "//Call QuickSort function\n",
    "- quickSort(arr, 0, n - 1)\n",
    "\n",
    "//Print sorted array\n",
    "- FOR val IN arr\n",
    "    - PRINT(val, \" \")\n",
    "- END FOR\n"
   ]
  },
  {
   "cell_type": "code",
   "execution_count": 12,
   "metadata": {},
   "outputs": [
    {
     "name": "stdout",
     "output_type": "stream",
     "text": [
      "1 5 7 8 9 10 "
     ]
    }
   ],
   "source": [
    "#PYTHON IMPLEMENTATION\n",
    "# Partition function\n",
    "def partition(arr, low, high):\n",
    "    \n",
    "    # Choose the pivot\n",
    "    pivot = arr[high]\n",
    "    \n",
    "    # Index of smaller element and indicates \n",
    "    # the right position of pivot found so far\n",
    "    i = low - 1\n",
    "    \n",
    "    # Traverse arr[low..high] and move all smaller\n",
    "    # elements to the left side. Elements from low to \n",
    "    # i are smaller after every iteration\n",
    "    for j in range(low, high):\n",
    "        if arr[j] < pivot:\n",
    "            i += 1\n",
    "            swap(arr, i, j)\n",
    "    \n",
    "    # Move pivot after smaller elements and\n",
    "    # return its position\n",
    "    swap(arr, i + 1, high)\n",
    "    return i + 1\n",
    "\n",
    "# Swap function\n",
    "def swap(arr, i, j):\n",
    "    arr[i], arr[j] = arr[j], arr[i]\n",
    "\n",
    "# The QuickSort function implementation\n",
    "def quickSort(arr, low, high):\n",
    "    if low < high:\n",
    "        \n",
    "        # pi is the partition return index of pivot\n",
    "        pi = partition(arr, low, high)\n",
    "        \n",
    "        # Recursion calls for smaller elements\n",
    "        # and greater or equals elements\n",
    "        quickSort(arr, low, pi - 1)\n",
    "        quickSort(arr, pi + 1, high)\n",
    "\n",
    "# Main driver code\n",
    "arr = [10, 7, 8, 9, 1, 5]\n",
    "n = len(arr)\n",
    "\n",
    "quickSort(arr, 0, n - 1)\n",
    "    \n",
    "for val in arr:\n",
    "    print(val, end=\" \") \n"
   ]
  },
  {
   "cell_type": "markdown",
   "metadata": {},
   "source": [
    "### Time Complexity Analysis:\n",
    "\n",
    "- The time complexity of Quick Sort is O(n log n) on average case, but can become O(n^2) in the worst-case. \n",
    "- The space complexity of Quick Sort in the best case is O(log n), while \n",
    "- in the worst-case scenario, it becomes O(n) due to unbalanced partitioning causing a skewed recursion tree that requires a call stack of size O(n).\n",
    "\n",
    "Time Complexity:\n",
    "\n",
    "- Best Case: (Ω(n log n)), Occurs when the pivot element divides the array into two equal halves.\n",
    "- Average Case (θ(n log n)), On average, the pivot divides the array into two parts, but not necessarily equal.\n",
    "- Worst Case: (O(n²)), Occurs when the smallest or largest element is always chosen as the pivot (e.g., sorted arrays)."
   ]
  },
  {
   "cell_type": "markdown",
   "metadata": {},
   "source": [
    "### Advantages and Disadvantages:\n",
    "\n",
    "STRENGTHS\n",
    "- - It is a divide-and-conquer algorithm that makes it easier to solve problems.\n",
    "- - It is efficient on large data sets.\n",
    "- - It has a low overhead, as it only requires a small amount of memory to function.\n",
    "- - It is Cache Friendly as we work on the same array to sort and do not copy data to any auxiliary array.\n",
    "- - Fastest general purpose algorithm for large data when stability is not required.\n",
    "- - It is tail recursive and hence all the tail call optimization can be done.\n",
    "\n",
    "WEAKNESSES\n",
    "- - It has a worst-case time complexity of O(n2), which occurs when the pivot is chosen poorly.\n",
    "- - It is not a good choice for small data sets.\n",
    "- - It is not a stable sort, meaning that if two elements have the same key, their relative order will not be preserved in the sorted output in case of quick sort, because here we are swapping elements according to the pivot’s position (without considering their original positions)."
   ]
  },
  {
   "cell_type": "markdown",
   "metadata": {},
   "source": [
    "### When to Use It: \n",
    "- For large datasets where average-case performance is acceptable\n",
    "\n",
    "### When Not to Use It: \n",
    "- When worst-case performance is unacceptable"
   ]
  },
  {
   "cell_type": "markdown",
   "metadata": {},
   "source": [
    "5. MERGE SORT\n",
    "- Merge sort is a sorting algorithm that follows the divide-and-conquer approach. \n",
    "\n",
    "HOW IT WORKS;\n",
    "- It works by recursively dividing the input array into smaller subarrays and sorting those subarrays then merging them back together to obtain the sorted array.\n",
    "- The process of merge sort is to divide the array into two halves, sort each half, and then merge the sorted halves back together. This process is repeated until the entire array is sorted.\n",
    "\n",
    "Here’s a step-by-step explanation of how merge sort works:\n",
    "\n",
    "- Divide:  Divide the list or array recursively into two halves until it can no more be divided. \n",
    "- Conquer:  Each subarray is sorted individually using the merge sort algorithm. \n",
    "- Merge:  The sorted subarrays are merged back together in sorted order. The process continues until all elements from both subarrays have been merged. \n",
    "\n",
    "Applications of Merge Sort:\n",
    "\n",
    "- Sorting large datasets\n",
    "- External sorting (when the dataset is too large to fit in memory)\n",
    "- Inversion counting\n",
    "- Merge Sort and its variations are used in library methods of programming languages.\n",
    "- Its variation TimSort is used in Python, Java Android and Swift. The main reason why it is preferred to sort non-primitive types is stability which is not there in QuickSort.\n",
    "Arrays.sort in Java uses QuickSort while Collections.sort uses MergeSort.\n",
    "- It is a preferred algorithm for sorting Linked lists.\n",
    "- It can be easily parallelized as we can independently sort subarrays and then merge.\n",
    "- The merge function of merge sort to efficiently solve the problems like union and intersection of two sorted arrays.\n"
   ]
  },
  {
   "cell_type": "markdown",
   "metadata": {},
   "source": [
    "### PSEUDOCODE;\n",
    "- FUNCTION merge_sort(arr, left, right)\n",
    "    - IF left < right\n",
    "        - DECLARE mid = (left + right) / 2\n",
    "\n",
    "        - CALL merge_sort(arr, left, mid)\n",
    "        - CALL merge_sort(arr, mid + 1, right)\n",
    "\n",
    "        - DECLARE n1 = mid - left + 1\n",
    "        - DECLARE n2 = right - mid\n",
    "\n",
    "        - CREATE temporary arrays L and R of size n1 and n2 respectively\n",
    "\n",
    "        - COPY elements from arr[left to mid] to L\n",
    "        - COPY elements from arr[mid+1 to right] to R\n",
    "\n",
    "        - INITIALIZE indices i, j, and k to 0, 0, and left respectively\n",
    "\n",
    "        - WHILE i < n1 AND j < n2\n",
    "            - IF L[i] <= R[j]\n",
    "                - SET arr[k] = L[i]\n",
    "                - INCREMENT i\n",
    "            - ELSE\n",
    "                - SET arr[k] = R[j]\n",
    "                - INCREMENT j\n",
    "            - INCREMENT k\n",
    "\n",
    "        - COPY remaining elements from L to arr if any\n",
    "        - COPY remaining elements from R to arr if any\n",
    "    - END IF\n",
    "- END FUNCTION\n",
    "\n",
    "- FUNCTION print_list(arr)\n",
    "    - FOR EACH element in arr\n",
    "        - PRINT element\n",
    "    - PRINT newline\n",
    "- END FUNCTION\n",
    "\n",
    "- DECLARE array arr = [12, 11, 13, 5, 6, 7]\n",
    "\n",
    "- PRINT \"Given array is\"\n",
    "- CALL print_list(arr)\n",
    "\n",
    "- CALL merge_sort(arr, 0, length of arr - 1)\n",
    "\n",
    "- PRINT \"Sorted array is\"\n",
    "- CALL print_list(arr)"
   ]
  },
  {
   "cell_type": "code",
   "execution_count": 13,
   "metadata": {},
   "outputs": [
    {
     "name": "stdout",
     "output_type": "stream",
     "text": [
      "Given array is\n",
      "12 11 13 5 6 7 \n",
      "\n",
      "Sorted array is\n",
      "5 6 7 11 12 13 \n"
     ]
    }
   ],
   "source": [
    "#PYTHON IMPLEMENTATION\n",
    "def merge(arr, left, mid, right):\n",
    "    n1 = mid - left + 1\n",
    "    n2 = right - mid\n",
    "\n",
    "    # Create temp arrays\n",
    "    L = [0] * n1\n",
    "    R = [0] * n2\n",
    "\n",
    "    # Copy data to temp arrays L[] and R[]\n",
    "    for i in range(n1):\n",
    "        L[i] = arr[left + i]\n",
    "    for j in range(n2):\n",
    "        R[j] = arr[mid + 1 + j]\n",
    "\n",
    "    i = 0  # Initial index of first subarray\n",
    "    j = 0  # Initial index of second subarray\n",
    "    k = left  # Initial index of merged subarray\n",
    "\n",
    "    # Merge the temp arrays back\n",
    "    # into arr[left..right]\n",
    "    while i < n1 and j < n2:\n",
    "        if L[i] <= R[j]:\n",
    "            arr[k] = L[i]\n",
    "            i += 1\n",
    "        else:\n",
    "            arr[k] = R[j]\n",
    "            j += 1\n",
    "        k += 1\n",
    "\n",
    "    # Copy the remaining elements of L[],\n",
    "    # if there are any\n",
    "    while i < n1:\n",
    "        arr[k] = L[i]\n",
    "        i += 1\n",
    "        k += 1\n",
    "\n",
    "    # Copy the remaining elements of R[], \n",
    "    # if there are any\n",
    "    while j < n2:\n",
    "        arr[k] = R[j]\n",
    "        j += 1\n",
    "        k += 1\n",
    "\n",
    "def merge_sort(arr, left, right):\n",
    "    if left < right:\n",
    "        mid = (left + right) // 2\n",
    "\n",
    "        merge_sort(arr, left, mid)\n",
    "        merge_sort(arr, mid + 1, right)\n",
    "        merge(arr, left, mid, right)\n",
    "\n",
    "def print_list(arr):\n",
    "    for i in arr:\n",
    "        print(i, end=\" \")\n",
    "    print()\n",
    "\n",
    "# Driver code\n",
    "arr = [12, 11, 13, 5, 6, 7]\n",
    "print(\"Given array is\")\n",
    "print_list(arr)\n",
    "\n",
    "merge_sort(arr, 0, len(arr) - 1)\n",
    "\n",
    "print(\"\\nSorted array is\")\n",
    "print_list(arr)\n"
   ]
  },
  {
   "cell_type": "markdown",
   "metadata": {},
   "source": [
    "### Time & Space Complexity Analysis:\n",
    "Complexity Analysis of Merge Sort\n",
    "\n",
    "- Time Complexity:\n",
    "- - Best Case: O(n log n), When the array is already sorted or nearly sorted.\n",
    "- - Average Case: O(n log n), When the array is randomly ordered.\n",
    "- - Worst Case: O(n log n), When the array is sorted in reverse order.\n",
    "\n",
    "- - Auxiliary Space: O(n), Additional space is required for the temporary array used during merging."
   ]
  },
  {
   "cell_type": "markdown",
   "metadata": {},
   "source": [
    "### Advantages and Disadvantages;\n",
    "STRENGTHS\n",
    "\n",
    "- Stability : Merge sort is a stable sorting algorithm, which means it maintains the relative order of equal elements in the input array.\n",
    "- Guaranteed worst-case performance: Merge sort has a worst-case time complexity of O(N logN) , which means it performs well even on large datasets.\n",
    "- Simple to implement: The divide-and-conquer approach is straightforward.\n",
    "- Naturally Parallel : We independently merge subarrays that makes it suitable for parallel processing.\n",
    "\n",
    "WEAKNESSES\n",
    "\n",
    "- Space complexity: Merge sort requires additional memory to store the merged sub-arrays during the sorting process.\n",
    "- Not in-place: Merge sort is not an in-place sorting algorithm, which means it requires additional memory to store the sorted data. This can be a disadvantage in applications where memory usage is a concern.\n",
    "- Merge Sort is Slower than QuickSort in general as QuickSort is more cache friendly because it works in-place."
   ]
  },
  {
   "cell_type": "markdown",
   "metadata": {},
   "source": [
    "### When to Use It: \n",
    "- For large datasets where consistent performance is required.\n",
    "\n",
    "### When not to Use It;\n",
    "- When memory usage is a concern."
   ]
  },
  {
   "cell_type": "markdown",
   "metadata": {},
   "source": [
    "## Final Comparison Summary:\n",
    "\n",
    "a) . Insights and Recommendations\n",
    "\n",
    "- Linear Search: Use for small or unsorted datasets.\n",
    "- Binary Search: Use for large sorted datasets.\n",
    "- Bubble Sort: Use for educational purposes or small datasets.\n",
    "- Insertion Sort: Use for small or nearly sorted datasets.\n",
    "- Selection Sort: Use when memory usage is a concern.\n",
    "- Quicksort: Use for large datasets where average-case performance is acceptable.\n",
    "- Mergesort: Use for large datasets where consistent performance is required."
   ]
  },
  {
   "cell_type": "markdown",
   "metadata": {},
   "source": [
    "| Algorithm      | Best-case | Worst-case | Average-case | Advantages                          | Disadvantages                     |\n",
    "|----------------|-----------|------------|--------------|-------------------------------------|-----------------------------------|\n",
    "| Linear Search  | O(1)      | O(n)       | O(n)         | Simple, works on unsorted lists     | Inefficient for large datasets    |\n",
    "| Binary Search  | O(1)      | O(log n)   | O(log n)     | Efficient for sorted lists          | Requires sorted list              |\n",
    "| Bubble Sort    | O(n)      | O(n^2)     | O(n^2)       | Simple to implement                 | Inefficient for large datasets    |\n",
    "| Insertion Sort | O(n)      | O(n^2)     | O(n^2)       | Efficient for small datasets        | Inefficient for large datasets    |\n",
    "| Selection Sort | O(n^2)    | O(n^2)     | O(n^2)       | Simple, low memory usage            | Inefficient for large datasets    |\n",
    "| Quicksort      | O(n log n)| O(n^2)     | O(n log n)   | Efficient for large datasets        | Poor worst-case performance       |\n",
    "| Mergesort      | O(n log n)| O(n log n) | O(n log n)   | Consistent performance, stable sort| Requires additional memory        |"
   ]
  },
  {
   "cell_type": "code",
   "execution_count": 5,
   "metadata": {},
   "outputs": [
    {
     "name": "stdout",
     "output_type": "stream",
     "text": [
      "Bubble Sort: 5.104909420013428 seconds\n",
      "Quicksort: 0.02588629722595215 seconds\n"
     ]
    }
   ],
   "source": [
    "import time\n",
    "import random\n",
    "\n",
    "# Define the bubble_sort function\n",
    "def bubble_sort(arr):\n",
    "    n = len(arr)\n",
    "    for i in range(n):\n",
    "        for j in range(0, n-i-1):\n",
    "            if arr[j] > arr[j+1]:\n",
    "                arr[j], arr[j+1] = arr[j+1], arr[j]  # Swap\n",
    "    return arr\n",
    "\n",
    "# Define the quicksort function\n",
    "def quicksort(arr):\n",
    "    if len(arr) <= 1:\n",
    "        return arr\n",
    "    pivot = arr[len(arr) // 2]\n",
    "    left = [x for x in arr if x < pivot]\n",
    "    middle = [x for x in arr if x == pivot]\n",
    "    right = [x for x in arr if x > pivot]\n",
    "    return quicksort(left) + middle + quicksort(right)\n",
    "\n",
    "# Generate a large dataset\n",
    "arr = [random.randint(1, 100000) for _ in range(10000)]\n",
    "\n",
    "# Measure time for Bubble Sort\n",
    "start_time = time.time()\n",
    "bubble_sort(arr.copy())  # Use a copy to avoid modifying the original array\n",
    "print(f\"Bubble Sort: {time.time() - start_time} seconds\")\n",
    "\n",
    "# Measure time for Quicksort\n",
    "start_time = time.time()\n",
    "quicksort(arr.copy())  # Use a copy to avoid modifying the original array\n",
    "print(f\"Quicksort: {time.time() - start_time} seconds\")"
   ]
  }
 ],
 "metadata": {
  "kernelspec": {
   "display_name": "Python 3",
   "language": "python",
   "name": "python3"
  },
  "language_info": {
   "codemirror_mode": {
    "name": "ipython",
    "version": 3
   },
   "file_extension": ".py",
   "mimetype": "text/x-python",
   "name": "python",
   "nbconvert_exporter": "python",
   "pygments_lexer": "ipython3",
   "version": "3.12.6"
  }
 },
 "nbformat": 4,
 "nbformat_minor": 2
}
